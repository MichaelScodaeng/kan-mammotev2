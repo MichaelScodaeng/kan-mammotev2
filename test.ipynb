{
 "cells": [
  {
   "cell_type": "code",
   "execution_count": 51,
   "id": "5e349f8e",
   "metadata": {},
   "outputs": [
    {
     "name": "stdout",
     "output_type": "stream",
     "text": [
      "🔧 Setting up LSTM Time Embedding Comparison...\n",
      "🔧 Using device: cuda\n",
      "✅ Setup complete! All imports and model definitions loaded.\n",
      "✅ Device: cuda\n",
      "✅ Results directory: /home/s2516027/kan-mammote/results\n",
      "🚀 Ready to run the comparison!\n"
     ]
    }
   ],
   "source": [
    "# 🚀 LSTM Time Embedding Comparison - Complete Setup Cell\n",
    "print(\"🔧 Setting up LSTM Time Embedding Comparison...\")\n",
    "\n",
    "# Core imports\n",
    "import os\n",
    "import sys\n",
    "import time\n",
    "import json\n",
    "import csv\n",
    "import warnings\n",
    "warnings.filterwarnings('ignore')\n",
    "\n",
    "# Deep learning imports\n",
    "import torch\n",
    "import torch.nn as nn\n",
    "import torch.optim as optim\n",
    "import torch.nn.functional as F\n",
    "from torch.utils.data import Dataset, DataLoader\n",
    "from torch.nn.utils.rnn import pack_padded_sequence, pad_packed_sequence\n",
    "\n",
    "# Data processing\n",
    "import numpy as np\n",
    "import matplotlib.pyplot as plt\n",
    "from PIL import Image\n",
    "from torchvision import datasets, transforms\n",
    "from tqdm.auto import tqdm # Import tqdm\n",
    "\n",
    "# Add project root to path\n",
    "project_root = '/home/s2516027/kan-mammote'\n",
    "if project_root not in sys.path:\n",
    "    sys.path.insert(0, project_root)\n",
    "\n",
    "# Import project modules\n",
    "from src.models.kan_mammote import KANMAMMOTE\n",
    "from src.utils.config import KANMAMOTEConfig\n",
    "from src.LETE.LeTE import CombinedLeTE as LeTE # Import CombinedLeTE and alias it as LeTE\n",
    "\n",
    "# Configuration\n",
    "BATCH_SIZE = 32\n",
    "LEARNING_RATE = 0.001\n",
    "NUM_EPOCHS = 10\n",
    "LSTM_HIDDEN_DIM = 128\n",
    "TIME_EMBEDDING_DIM = 64\n",
    "DROPOUT_RATE = 0.2\n",
    "THRESHOLD = 0.3\n",
    "GRAD_CLIP_NORM = 1.0\n",
    "\n",
    "# Setup device and directories\n",
    "device = torch.device('cuda' if torch.cuda.is_available() else 'cpu')\n",
    "print(f\"🔧 Using device: {device}\")\n",
    "\n",
    "RESULTS_DIR = f\"{project_root}/results\"\n",
    "os.makedirs(RESULTS_DIR, exist_ok=True)\n",
    "\n",
    "class EventBasedMNIST(Dataset):\n",
    "    \"\"\"Convert MNIST to event-based representation.\"\"\"\n",
    "    \n",
    "    def __init__(self, root, train=True, threshold=0.3, download=False):\n",
    "        self.threshold = threshold\n",
    "        transform = transforms.Compose([transforms.ToTensor()])\n",
    "        self.mnist = datasets.MNIST(root=root, train=train, download=download, transform=transform)\n",
    "        \n",
    "    def __len__(self):\n",
    "        return len(self.mnist)\n",
    "        \n",
    "    def __getitem__(self, idx):\n",
    "        image, label = self.mnist[idx]\n",
    "        \n",
    "        # Convert to event representation\n",
    "        image = image.squeeze().numpy()\n",
    "        \n",
    "        # Create events for pixels above threshold\n",
    "        events = []\n",
    "        features = []\n",
    "        \n",
    "        for i in range(28):\n",
    "            for j in range(28):\n",
    "                if image[i, j] > self.threshold:\n",
    "                    position = i * 28 + j  # Flatten position\n",
    "                    events.append(position)\n",
    "                    features.append(image[i, j])\n",
    "        \n",
    "        if len(events) == 0:\n",
    "            events = [0]\n",
    "            features = [0.0]\n",
    "        \n",
    "        return np.array(events), np.array(features), label\n",
    "\n",
    "def collate_fn(batch):\n",
    "    \"\"\"Custom collate function for variable length sequences.\"\"\"\n",
    "    events_batch = []\n",
    "    features_batch = []\n",
    "    lengths = []\n",
    "    labels = []\n",
    "    \n",
    "    max_len = max(len(events) for events, _, _ in batch)\n",
    "    \n",
    "    for events, features, label in batch:\n",
    "        length = len(events)\n",
    "        lengths.append(length)\n",
    "        labels.append(label)\n",
    "        \n",
    "        # Pad sequences\n",
    "        padded_events = np.zeros(max_len, dtype=np.int64)\n",
    "        padded_features = np.zeros(max_len, dtype=np.float32)\n",
    "        \n",
    "        padded_events[:length] = events\n",
    "        padded_features[:length] = features\n",
    "        \n",
    "        events_batch.append(padded_events)\n",
    "        features_batch.append(padded_features)\n",
    "    \n",
    "    return (torch.tensor(events_batch), \n",
    "            torch.tensor(features_batch), \n",
    "            torch.tensor(lengths), \n",
    "            torch.tensor(labels))\n",
    "\n",
    "def count_parameters(model):\n",
    "    \"\"\"Count trainable parameters in a model.\"\"\"\n",
    "    return sum(p.numel() for p in model.parameters() if p.requires_grad)\n",
    "\n",
    "class TrueBaselineLSTM(nn.Module):\n",
    "    \"\"\"True baseline LSTM without any time embeddings.\"\"\"\n",
    "    \n",
    "    def __init__(self, input_size=784, hidden_dim=128, num_classes=10, dropout=0.2):\n",
    "        super().__init__()\n",
    "        self.hidden_dim = hidden_dim\n",
    "        \n",
    "        # Just use feature values directly\n",
    "        self.lstm = nn.LSTM(\n",
    "            input_size=1,  # Just the pixel values\n",
    "            hidden_size=hidden_dim,\n",
    "            num_layers=2,\n",
    "            batch_first=True,\n",
    "            dropout=dropout\n",
    "        )\n",
    "        \n",
    "        self.classifier = nn.Linear(hidden_dim, num_classes)\n",
    "        \n",
    "    def forward(self, events, features, lengths):\n",
    "        if features.size(0) == 0:\n",
    "            return torch.zeros(0, 10, device=features.device)\n",
    "        \n",
    "        lengths = torch.clamp(lengths, min=1, max=features.size(1))\n",
    "        \n",
    "        # Use only pixel values, no positional information\n",
    "        x = features.unsqueeze(-1)  # Add feature dimension\n",
    "        \n",
    "        # Pack sequences\n",
    "        packed = pack_padded_sequence(x, lengths.cpu(), batch_first=True, enforce_sorted=False)\n",
    "        _, (h_n, c_n) = self.lstm(packed)\n",
    "        \n",
    "        # Classify using last hidden state\n",
    "        output = self.classifier(h_n[-1])\n",
    "        return output\n",
    "\n",
    "class LearnablePositionLSTM(nn.Module):\n",
    "    \"\"\"LSTM with learnable position embeddings.\"\"\"\n",
    "    \n",
    "    def __init__(self, input_size=784, hidden_dim=128, num_classes=10, dropout=0.2):\n",
    "        super().__init__()\n",
    "        self.hidden_dim = hidden_dim\n",
    "        self.input_size = input_size\n",
    "        \n",
    "        # Learnable position embedding\n",
    "        self.position_embedding = nn.Embedding(input_size, TIME_EMBEDDING_DIM)\n",
    "        \n",
    "        # Feature projection\n",
    "        self.feature_proj = nn.Linear(1, TIME_EMBEDDING_DIM)\n",
    "        \n",
    "        self.lstm = nn.LSTM(\n",
    "            input_size=TIME_EMBEDDING_DIM,\n",
    "            hidden_size=hidden_dim,\n",
    "            num_layers=2,\n",
    "            batch_first=True,\n",
    "            dropout=dropout\n",
    "        )\n",
    "        \n",
    "        self.classifier = nn.Linear(hidden_dim, num_classes)\n",
    "        \n",
    "    def forward(self, events, features, lengths):\n",
    "        if events.size(0) == 0:\n",
    "            return torch.zeros(0, 10, device=events.device)\n",
    "        \n",
    "        lengths = torch.clamp(lengths, min=1, max=events.size(1))\n",
    "        \n",
    "        # Get position embeddings\n",
    "        pos_emb = self.position_embedding(events)\n",
    "        \n",
    "        # Project features\n",
    "        feat_emb = self.feature_proj(features.unsqueeze(-1))\n",
    "        \n",
    "        # Combine position and feature embeddings\n",
    "        combined = pos_emb + feat_emb\n",
    "        \n",
    "        # Pack sequences\n",
    "        packed = pack_padded_sequence(combined, lengths.cpu(), batch_first=True, enforce_sorted=False)\n",
    "        _, (h_n, c_n) = self.lstm(packed)\n",
    "        \n",
    "        # Classify\n",
    "        output = self.classifier(h_n[-1])\n",
    "        return output\n",
    "\n",
    "class SinCosLSTM(nn.Module):\n",
    "    \"\"\"LSTM with sinusoidal position embeddings.\"\"\"\n",
    "    \n",
    "    def __init__(self, input_size=784, hidden_dim=128, num_classes=10, dropout=0.2):\n",
    "        super().__init__()\n",
    "        self.hidden_dim = hidden_dim\n",
    "        \n",
    "        # Feature projection\n",
    "        self.feature_proj = nn.Linear(1, TIME_EMBEDDING_DIM)\n",
    "        \n",
    "        self.lstm = nn.LSTM(\n",
    "            input_size=TIME_EMBEDDING_DIM,\n",
    "            hidden_size=hidden_dim,\n",
    "            num_layers=2,\n",
    "            batch_first=True,\n",
    "            dropout=dropout\n",
    "        )\n",
    "        \n",
    "        self.classifier = nn.Linear(hidden_dim, num_classes)\n",
    "        \n",
    "    def get_sincos_embeddings(self, positions):\n",
    "        \"\"\"Generate sinusoidal position embeddings.\"\"\"\n",
    "        batch_size, seq_len = positions.shape\n",
    "        embeddings = torch.zeros(batch_size, seq_len, TIME_EMBEDDING_DIM, device=positions.device)\n",
    "        \n",
    "        # Normalize positions to [0, 1]\n",
    "        max_pos = positions.max(dim=1, keepdim=True)[0].float()\n",
    "        normalized_pos = positions.float() / (max_pos + 1e-8)\n",
    "        \n",
    "        div_term = torch.exp(torch.arange(0, TIME_EMBEDDING_DIM, 2, device=positions.device).float() * \n",
    "                            -(np.log(10000.0) / TIME_EMBEDDING_DIM))\n",
    "        \n",
    "        pos_scaled = normalized_pos.unsqueeze(-1) * div_term.unsqueeze(0).unsqueeze(0)\n",
    "        \n",
    "        embeddings[:, :, 0::2] = torch.sin(pos_scaled)\n",
    "        embeddings[:, :, 1::2] = torch.cos(pos_scaled)\n",
    "        \n",
    "        return embeddings\n",
    "        \n",
    "    def forward(self, events, features, lengths):\n",
    "        if events.size(0) == 0:\n",
    "            return torch.zeros(0, 10, device=events.device)\n",
    "        \n",
    "        lengths = torch.clamp(lengths, min=1, max=events.size(1))\n",
    "        \n",
    "        # Get sinusoidal position embeddings\n",
    "        pos_emb = self.get_sincos_embeddings(events)\n",
    "        \n",
    "        # Project features\n",
    "        feat_emb = self.feature_proj(features.unsqueeze(-1))\n",
    "        \n",
    "        # Combine embeddings\n",
    "        combined = pos_emb + feat_emb\n",
    "        \n",
    "        # Pack sequences\n",
    "        packed = pack_padded_sequence(combined, lengths.cpu(), batch_first=True, enforce_sorted=False)\n",
    "        _, (h_n, c_n) = self.lstm(packed)\n",
    "        \n",
    "        # Classify\n",
    "        output = self.classifier(h_n[-1])\n",
    "        return output\n",
    "\n",
    "class LETE_LSTM_Fixed(nn.Module):\n",
    "    \"\"\"LSTM with LETE time embeddings - FIXED.\"\"\"\n",
    "    \n",
    "    def __init__(self, input_size=784, hidden_dim=128, num_classes=10, dropout=0.2):\n",
    "        super().__init__()\n",
    "        self.hidden_dim = hidden_dim\n",
    "        \n",
    "        # Initialize LETE\n",
    "        self.lete = LeTE(dim=TIME_EMBEDDING_DIM)\n",
    "        \n",
    "        # Feature projection\n",
    "        self.feature_proj = nn.Linear(1, TIME_EMBEDDING_DIM)\n",
    "        \n",
    "        self.lstm = nn.LSTM(\n",
    "            input_size=TIME_EMBEDDING_DIM,\n",
    "            hidden_size=hidden_dim,\n",
    "            num_layers=2,\n",
    "            batch_first=True,\n",
    "            dropout=dropout\n",
    "        )\n",
    "        \n",
    "        self.classifier = nn.Linear(hidden_dim, num_classes)\n",
    "        \n",
    "    def forward(self, events, features, lengths):\n",
    "        # Input validation\n",
    "        if events.size(0) == 0:\n",
    "            return torch.zeros(0, 10, device=events.device)\n",
    "        \n",
    "        # Clamp lengths to prevent issues\n",
    "        lengths = torch.clamp(lengths, min=1, max=events.size(1))\n",
    "        \n",
    "        # Normalize timestamps\n",
    "        max_pos = events.max(dim=1, keepdim=True)[0].float()\n",
    "        # Prevent division by zero\n",
    "        max_pos[max_pos == 0] = 1.0\n",
    "        timestamps = events.float() / max_pos\n",
    "        \n",
    "        # Get LETE embeddings\n",
    "        timestamps_3d = timestamps.unsqueeze(-1)\n",
    "        lete_emb = self.lete(timestamps_3d)\n",
    "        \n",
    "        # Handle shape mismatches\n",
    "        batch_size, seq_len = timestamps.shape\n",
    "        if lete_emb.shape != (batch_size, seq_len, TIME_EMBEDDING_DIM):\n",
    "            if lete_emb.dim() == 3:\n",
    "                # Take only what we need\n",
    "                lete_emb = lete_emb[:, :seq_len, :TIME_EMBEDDING_DIM]\n",
    "            else:\n",
    "                # Reshape as needed\n",
    "                lete_emb = lete_emb.view(batch_size, seq_len, -1)\n",
    "                if lete_emb.shape[2] != TIME_EMBEDDING_DIM:\n",
    "                    # Project to correct dimension\n",
    "                    if not hasattr(self, 'lete_proj'):\n",
    "                        self.lete_proj = nn.Linear(lete_emb.shape[2], TIME_EMBEDDING_DIM).to(lete_emb.device)\n",
    "                    lete_emb = self.lete_proj(lete_emb)\n",
    "        \n",
    "        # Clip to prevent numerical issues\n",
    "        lete_emb = torch.clamp(lete_emb, min=-1e3, max=1e3)\n",
    "        \n",
    "        # Project features\n",
    "        feat_emb = self.feature_proj(features.unsqueeze(-1))\n",
    "        \n",
    "        # Combine embeddings\n",
    "        combined = lete_emb + feat_emb\n",
    "        combined = F.relu(combined)\n",
    "        \n",
    "        # LSTM processing\n",
    "        packed = pack_padded_sequence(combined, lengths.cpu(), batch_first=True, enforce_sorted=False)\n",
    "        _, (h_n, c_n) = self.lstm(packed)\n",
    "        \n",
    "        # Classify\n",
    "        output = self.classifier(h_n[-1])\n",
    "        return output\n",
    "class KAN_MAMMOTE_LSTM_Fixed(nn.Module):\n",
    "    \"\"\"LSTM with KAN-MAMMOTE that processes the entire sequence.\"\"\"\n",
    "    \n",
    "    def __init__(self, input_size=784, hidden_dim=128, num_classes=10, dropout=0.2):\n",
    "        super().__init__()\n",
    "        self.hidden_dim = hidden_dim\n",
    "        self.num_classes = num_classes\n",
    "        \n",
    "        # Fix 1: Update timestamp projection dimension\n",
    "        # The input is a scalar (dimension 1), and the output needs to match input_feature_dim in KAN config\n",
    "        self.timestamp_proj = nn.Linear(1, 16)\n",
    "        \n",
    "        # Initialize KAN-MAMMOTE with appropriate settings\n",
    "        self.kan_config = KANMAMOTEConfig(\n",
    "            D_time=TIME_EMBEDDING_DIM,\n",
    "            d_model=LSTM_HIDDEN_DIM,\n",
    "            input_feature_dim=16,  # Must match output dim of timestamp_proj\n",
    "            output_dim_for_task=TIME_EMBEDDING_DIM,\n",
    "            K_top=4,\n",
    "            use_aux_features_router=False,\n",
    "            raw_event_feature_dim=1,\n",
    "            num_layers=1,\n",
    "            num_experts=4\n",
    "        )\n",
    "        \n",
    "        self.kan_mammote = KANMAMMOTE(self.kan_config)\n",
    "        \n",
    "        # Feature projection\n",
    "        self.feature_proj = nn.Linear(1, TIME_EMBEDDING_DIM)\n",
    "        \n",
    "        # Combine embeddings\n",
    "        self.combine = nn.Linear(TIME_EMBEDDING_DIM * 2, TIME_EMBEDDING_DIM)\n",
    "        \n",
    "        self.lstm = nn.LSTM(\n",
    "            input_size=TIME_EMBEDDING_DIM,\n",
    "            hidden_size=hidden_dim,\n",
    "            num_layers=2,\n",
    "            batch_first=True,\n",
    "            dropout=dropout\n",
    "        )\n",
    "        \n",
    "        self.classifier = nn.Linear(hidden_dim, num_classes)\n",
    "        \n",
    "    def forward(self, events, features, lengths):\n",
    "        # Input validation\n",
    "        if events.size(0) == 0:\n",
    "            return torch.zeros(0, self.num_classes, device=events.device)\n",
    "        \n",
    "        # Clamp lengths to prevent issues\n",
    "        lengths = torch.clamp(lengths, min=1, max=events.size(1))\n",
    "        \n",
    "        # Filter valid sequences\n",
    "        valid_mask = lengths > 0\n",
    "        if not valid_mask.any():\n",
    "            return torch.zeros(events.size(0), self.num_classes, device=events.device)\n",
    "        \n",
    "        events_valid = events[valid_mask]\n",
    "        features_valid = features[valid_mask]\n",
    "        lengths_valid = lengths[valid_mask]\n",
    "        \n",
    "        # Normalize timestamps\n",
    "        max_pos = events_valid.max(dim=1, keepdim=True)[0].float()\n",
    "        max_pos[max_pos == 0] = 1.0\n",
    "        timestamps = events_valid.float() / (max_pos + 1e-8)\n",
    "        \n",
    "        batch_size, max_seq_len = events_valid.shape\n",
    "        \n",
    "         # Create sequence mask to handle variable lengths\n",
    "        seq_mask = torch.arange(max_seq_len, device=lengths_valid.device)[None, :] < lengths_valid[:, None]\n",
    "        \n",
    "        # Process all positions at once - KEY OPTIMIZATION\n",
    "        \n",
    "        # 1. Project all timestamps\n",
    "        # Shape: [batch_size, seq_len, 1] -> [batch_size, seq_len, 16]\n",
    "        all_timestamp_proj = self.timestamp_proj(timestamps.unsqueeze(-1))\n",
    "        \n",
    "        # 2. Create empty features tensor matching the expected dimensions\n",
    "        # Shape: [batch_size, seq_len, 16]\n",
    "        all_features = torch.zeros(batch_size, max_seq_len, 16, device=timestamps.device)\n",
    "        \n",
    "        # 3. Apply mask to both tensors to handle padding properly\n",
    "        # This step is important to ensure we don't process padding tokens\n",
    "        masked_timestamp_proj = all_timestamp_proj * seq_mask.unsqueeze(-1).float()\n",
    "        masked_features = all_features * seq_mask.unsqueeze(-1).float()\n",
    "        \n",
    "        # 4. Process through KAN-MAMMOTE in a single forward pass\n",
    "        try:\n",
    "            # Reshape for processing\n",
    "            # From [batch_size, seq_len, 16] to [batch_size * seq_len, 16]\n",
    "            flat_timestamps = masked_timestamp_proj.view(-1, 16)\n",
    "            flat_features = masked_features.view(-1, 1, 16)  # Keep the seq_len dim of 1 for each position\n",
    "            \n",
    "            # Skip zeros (padding) to save computation\n",
    "            nonzero_mask = ~(flat_timestamps.sum(dim=-1) == 0)\n",
    "            if nonzero_mask.any():\n",
    "                nonzero_timestamps = flat_timestamps[nonzero_mask]\n",
    "                nonzero_features = flat_features[nonzero_mask]\n",
    "                \n",
    "                # Process through KAN-MAMMOTE\n",
    "                nonzero_outputs, _ = self.kan_mammote(nonzero_timestamps, nonzero_features)\n",
    "                if nonzero_outputs.dim() == 3 and nonzero_outputs.shape[1] == 1:\n",
    "                    # Remove the middle dimension\n",
    "                    nonzero_outputs = nonzero_outputs.squeeze(1)\n",
    "                # Initialize output tensor\n",
    "                flat_outputs = torch.zeros(\n",
    "                    flat_timestamps.size(0), TIME_EMBEDDING_DIM, \n",
    "                    device=flat_timestamps.device\n",
    "                )\n",
    "                \n",
    "                # Place outputs back\n",
    "                flat_outputs[nonzero_mask] = nonzero_outputs\n",
    "                \n",
    "                # Reshape back to [batch_size, seq_len, embedding_dim]\n",
    "                kan_embeddings = flat_outputs.view(batch_size, max_seq_len, -1)\n",
    "            else:\n",
    "                # Handle edge case where all are zeros\n",
    "                kan_embeddings = torch.zeros(batch_size, max_seq_len, TIME_EMBEDDING_DIM, device=timestamps.device)\n",
    "        \n",
    "        except Exception as e:\n",
    "            print(f\"Error processing with KAN-MAMMOTE: {e}\")\n",
    "            print(f\"Input shapes - timestamp_proj: {masked_timestamp_proj.shape}, features: {masked_features.shape}\")\n",
    "            # Add more detailed error info\n",
    "            if 'nonzero_outputs' in locals():\n",
    "                print(f\"Output shape from KAN-MAMMOTE: {nonzero_outputs.shape}\")\n",
    "            if 'flat_outputs' in locals():\n",
    "                print(f\"Shape of flat_outputs: {flat_outputs.shape}\")\n",
    "            if 'nonzero_mask' in locals():\n",
    "                print(f\"Nonzero mask shape: {nonzero_mask.shape}, sum: {nonzero_mask.sum()}\")\n",
    "            \n",
    "            raise\n",
    "        \n",
    "        # Project features for the other branch\n",
    "        feat_emb = self.feature_proj(features_valid.unsqueeze(-1))\n",
    "        \n",
    "        # Combine embeddings from both pathways\n",
    "        combined_valid = torch.cat([kan_embeddings, feat_emb], dim=-1)\n",
    "        combined_valid = self.combine(combined_valid)\n",
    "        combined_valid = F.relu(combined_valid)\n",
    "        \n",
    "        # Apply sequence mask again to ensure we don't use padding in LSTM\n",
    "        combined_valid = combined_valid * seq_mask.unsqueeze(-1).float()\n",
    "        \n",
    "        # LSTM processing\n",
    "        packed = pack_padded_sequence(combined_valid, lengths_valid.cpu(), batch_first=True, enforce_sorted=False)\n",
    "        _, (h_n, c_n) = self.lstm(packed)\n",
    "        \n",
    "        # Classifier\n",
    "        valid_logits = self.classifier(h_n[-1])\n",
    "        \n",
    "        # Create full output tensor\n",
    "        full_logits = torch.zeros(events.size(0), self.num_classes, device=events.device)\n",
    "        full_logits[valid_mask] = valid_logits\n",
    "        \n",
    "        return full_logits\n",
    "    \n",
    "def train_model(model, train_loader, test_loader, model_name):\n",
    "    \"\"\"Train a single model with immediate error stopping.\"\"\"\n",
    "    model = model.to(device)\n",
    "    optimizer = optim.Adam(model.parameters(), lr=LEARNING_RATE)\n",
    "    criterion = nn.CrossEntropyLoss()\n",
    "    \n",
    "    history = {\n",
    "        'train_loss': [], 'train_acc': [], 'test_loss': [], 'test_acc': [],\n",
    "        'epochs': [], 'training_time': []\n",
    "    }\n",
    "    \n",
    "    best_test_acc = 0.0\n",
    "    \n",
    "    print(f\"Training {model_name}...\")\n",
    "    \n",
    "    for epoch in range(NUM_EPOCHS):\n",
    "        start_time = time.time()\n",
    "        \n",
    "        # Training phase\n",
    "        model.train()\n",
    "        train_pbar = tqdm(train_loader, desc=f\"Epoch {epoch+1}/{NUM_EPOCHS} [Train]\", leave=False)\n",
    "        train_loss = 0.0\n",
    "        train_correct = 0\n",
    "        train_total = 0\n",
    "        \n",
    "        for batch_idx, (events, features, lengths, labels) in enumerate(train_pbar):\n",
    "            # No try-except here - let errors propagate and stop execution\n",
    "            events, features, lengths, labels = events.to(device), features.to(device), lengths.to(device), labels.to(device)\n",
    "            \n",
    "            # Debug info for first few batches\n",
    "            '''if batch_idx < 3:\n",
    "                print(f\"\\n📊 Batch {batch_idx} debug:\")\n",
    "                print(f\"  - events: shape={events.shape}, range=[{events.min().item()}, {events.max().item()}]\")\n",
    "                print(f\"  - features: shape={features.shape}, range=[{features.min().item()}, {features.max().item()}]\")\n",
    "                print(f\"  - lengths: shape={lengths.shape}, range=[{lengths.min().item()}, {lengths.max().item()}]\")\n",
    "                print(f\"  - labels: shape={labels.shape}, values={labels.tolist()}\")'''\n",
    "            \n",
    "            optimizer.zero_grad()\n",
    "            \n",
    "            outputs = model(events, features, lengths)\n",
    "            \n",
    "            # Check outputs and raise error if issues are found\n",
    "            if torch.isnan(outputs).any():\n",
    "                print(f\"⚠️ NaN detected in outputs at batch {batch_idx}!\")\n",
    "                raise ValueError(f\"NaN detected in model outputs at batch {batch_idx}\")\n",
    "                \n",
    "            loss = criterion(outputs, labels)\n",
    "            \n",
    "            # Check loss and raise error if issues are found\n",
    "            if torch.isnan(loss) or torch.isinf(loss):\n",
    "                print(f\"⚠️ NaN/Inf loss detected at batch {batch_idx}: {loss.item()}\")\n",
    "                raise ValueError(f\"NaN or Inf loss value detected at batch {batch_idx}: {loss.item()}\")\n",
    "            \n",
    "            loss.backward()\n",
    "            \n",
    "            # Check gradients and raise error if issues are found\n",
    "            for name, param in model.named_parameters():\n",
    "                if param.grad is not None and (torch.isnan(param.grad).any() or torch.isinf(param.grad).any()):\n",
    "                    print(f\"⚠️ NaN/Inf gradient detected in {name}\")\n",
    "                    raise ValueError(f\"NaN or Inf gradient detected in parameter {name}\")\n",
    "            \n",
    "            torch.nn.utils.clip_grad_norm_(model.parameters(), GRAD_CLIP_NORM)\n",
    "            optimizer.step()\n",
    "            \n",
    "            train_loss += loss.item()\n",
    "            _, predicted = torch.max(outputs.data, 1)\n",
    "            train_total += labels.size(0)\n",
    "            train_correct += (predicted == labels).sum().item()\n",
    "            \n",
    "            # Update tqdm postfix\n",
    "            train_pbar.set_postfix(loss=f\"{loss.item():.4f}\", acc=f\"{100*train_correct/train_total:.2f}%\")\n",
    "        \n",
    "        train_pbar.close()\n",
    "\n",
    "        # Validation phase\n",
    "        model.eval()\n",
    "        test_pbar = tqdm(test_loader, desc=f\"Epoch {epoch+1}/{NUM_EPOCHS} [Test]\", leave=False)\n",
    "        test_loss = 0.0\n",
    "        test_correct = 0\n",
    "        test_total = 0\n",
    "        \n",
    "        with torch.no_grad():\n",
    "            for batch_idx, (events, features, lengths, labels) in enumerate(test_pbar):\n",
    "                # No try-except here - let errors propagate and stop execution\n",
    "                events, features, lengths, labels = events.to(device), features.to(device), lengths.to(device), labels.to(device)\n",
    "                \n",
    "                outputs = model(events, features, lengths)\n",
    "                \n",
    "                # Check outputs and raise error if issues are found\n",
    "                if torch.isnan(outputs).any():\n",
    "                    print(f\"⚠️ NaN detected in test outputs at batch {batch_idx}!\")\n",
    "                    raise ValueError(f\"NaN detected in test model outputs at batch {batch_idx}\")\n",
    "                    \n",
    "                loss = criterion(outputs, labels)\n",
    "                \n",
    "                # Check loss and raise error if issues are found\n",
    "                if torch.isnan(loss) or torch.isinf(loss):\n",
    "                    print(f\"⚠️ NaN/Inf test loss detected at batch {batch_idx}: {loss.item()}\")\n",
    "                    raise ValueError(f\"NaN or Inf test loss value detected at batch {batch_idx}: {loss.item()}\")\n",
    "                \n",
    "                test_loss += loss.item()\n",
    "                _, predicted = torch.max(outputs.data, 1)\n",
    "                test_total += labels.size(0)\n",
    "                test_correct += (predicted == labels).sum().item()\n",
    "                \n",
    "                test_pbar.set_postfix(loss=f\"{loss.item():.4f}\", acc=f\"{100*test_correct/test_total:.2f}%\")\n",
    "        \n",
    "        test_pbar.close()\n",
    "\n",
    "        # Calculate metrics\n",
    "        epoch_time = time.time() - start_time\n",
    "        train_acc = 100 * train_correct / max(train_total, 1)  # Avoid division by zero\n",
    "        test_acc = 100 * test_correct / max(test_total, 1)    # Avoid division by zero\n",
    "        avg_train_loss = train_loss / max(len(train_loader), 1)  # Avoid division by zero\n",
    "        avg_test_loss = test_loss / max(len(test_loader), 1)    # Avoid division by zero\n",
    "        \n",
    "        if test_acc > best_test_acc:\n",
    "            best_test_acc = test_acc\n",
    "        \n",
    "        history['train_loss'].append(avg_train_loss)\n",
    "        history['train_acc'].append(train_acc)\n",
    "        history['test_loss'].append(avg_test_loss)\n",
    "        history['test_acc'].append(test_acc)\n",
    "        history['epochs'].append(epoch + 1)\n",
    "        history['training_time'].append(epoch_time)\n",
    "        \n",
    "        print(f'Epoch {epoch+1}/{NUM_EPOCHS}: Train Acc: {train_acc:.2f}%, Test Acc: {test_acc:.2f}%, Time: {epoch_time:.1f}s')\n",
    "    \n",
    "    print(f\"✅ {model_name} training complete. Best test accuracy: {best_test_acc:.2f}%\")\n",
    "    return history, best_test_acc\n",
    "\n",
    "def plot_training_curves(results):\n",
    "    \"\"\"Plot training curves for all models.\"\"\"\n",
    "    plt.figure(figsize=(15, 10))\n",
    "    \n",
    "    # Plot training accuracy\n",
    "    plt.subplot(2, 2, 1)\n",
    "    for model_name, history in results.items():\n",
    "        if 'train_acc' in history and len(history['train_acc']) > 0:\n",
    "            plt.plot(history['epochs'], history['train_acc'], label=model_name, marker='o')\n",
    "    plt.title('Training Accuracy')\n",
    "    plt.xlabel('Epoch')\n",
    "    plt.ylabel('Accuracy (%)')\n",
    "    plt.legend()\n",
    "    plt.grid(True)\n",
    "    \n",
    "    # Plot test accuracy\n",
    "    plt.subplot(2, 2, 2)\n",
    "    for model_name, history in results.items():\n",
    "        if 'test_acc' in history and len(history['test_acc']) > 0:\n",
    "            plt.plot(history['epochs'], history['test_acc'], label=model_name, marker='o')\n",
    "    plt.title('Test Accuracy')\n",
    "    plt.xlabel('Epoch')\n",
    "    plt.ylabel('Accuracy (%)')\n",
    "    plt.legend()\n",
    "    plt.grid(True)\n",
    "    \n",
    "    # Plot training loss\n",
    "    plt.subplot(2, 2, 3)\n",
    "    for model_name, history in results.items():\n",
    "        if 'train_loss' in history and len(history['train_loss']) > 0:\n",
    "            plt.plot(history['epochs'], history['train_loss'], label=model_name, marker='o')\n",
    "    plt.title('Training Loss')\n",
    "    plt.xlabel('Epoch')\n",
    "    plt.ylabel('Loss')\n",
    "    plt.legend()\n",
    "    plt.grid(True)\n",
    "    \n",
    "    # Plot test loss\n",
    "    plt.subplot(2, 2, 4)\n",
    "    for model_name, history in results.items():\n",
    "        if 'test_loss' in history and len(history['test_loss']) > 0:\n",
    "            plt.plot(history['epochs'], history['test_loss'], label=model_name, marker='o')\n",
    "    plt.title('Test Loss')\n",
    "    plt.xlabel('Epoch')\n",
    "    plt.ylabel('Loss')\n",
    "    plt.legend()\n",
    "    plt.grid(True)\n",
    "    \n",
    "    plt.tight_layout()\n",
    "    plt.savefig(f'{RESULTS_DIR}/training_curves.png', dpi=300, bbox_inches='tight')\n",
    "    plt.show()\n",
    "    \n",
    "    print(f\"✅ Training curves saved to {RESULTS_DIR}/training_curves.png\")\n",
    "\n",
    "print(\"✅ Setup complete! All imports and model definitions loaded.\")\n",
    "print(f\"✅ Device: {device}\")\n",
    "print(f\"✅ Results directory: {RESULTS_DIR}\")\n",
    "print(\"🚀 Ready to run the comparison!\")"
   ]
  },
  {
   "cell_type": "markdown",
   "id": "43de4abe",
   "metadata": {},
   "source": [
    "Looking at the error trace, I can see there's a shape mismatch error occurring during the matrix multiplication in the neural network. The error \"mat1 and mat2 shapes cannot be multiplied (32x16 and 1x64)\" suggests that your KAN-MAMMOTE model has a dimension mismatch between the projected timestamps and the network's expected input shape.\n",
    "\n",
    "Let me create a test file to help diagnose this issue. I'll focus on testing the model initialization, forward pass, and the key component causing the error.\n",
    "\n",
    "\n",
    "\n",
    "Made changes."
   ]
  },
  {
   "cell_type": "code",
   "execution_count": 52,
   "id": "23b87960",
   "metadata": {},
   "outputs": [
    {
     "name": "stdout",
     "output_type": "stream",
     "text": [
      "CUDA is available. Running on GPU.\n"
     ]
    }
   ],
   "source": [
    "#check cuda\n",
    "import torch\n",
    "if torch.cuda.is_available():\n",
    "    print(\"CUDA is available. Running on GPU.\")"
   ]
  },
  {
   "cell_type": "code",
   "execution_count": 53,
   "id": "298d066b",
   "metadata": {},
   "outputs": [
    {
     "name": "stdout",
     "output_type": "stream",
     "text": [
      "🚀 Starting LSTM Time Embedding Comparison - FIXED VERSION (STOP ON ERROR)...\n",
      "\n",
      "📁 Loading datasets...\n"
     ]
    },
    {
     "name": "stdout",
     "output_type": "stream",
     "text": [
      "✅ Dataset loaded: 60000 train, 10000 test samples\n",
      "\n",
      "📊 Model Information:\n",
      "   True_Baseline: 200,458 parameters\n",
      "   Learnable_Position: 283,018 parameters\n",
      "   SinCos_LSTM: 232,842 parameters\n",
      "   LETE_LSTM: 252,650 parameters\n",
      "   KAN_MAMMOTE_LSTM: 418,862 parameters\n",
      "\n",
      "==================================================\n",
      "Starting training for True_Baseline\n",
      "==================================================\n",
      "Training True_Baseline...\n"
     ]
    },
    {
     "data": {
      "application/vnd.jupyter.widget-view+json": {
       "model_id": "5c0ff266f3e448f2aa7f6fd7e1133376",
       "version_major": 2,
       "version_minor": 0
      },
      "text/plain": [
       "Epoch 1/10 [Train]:   0%|          | 0/1875 [00:00<?, ?it/s]"
      ]
     },
     "metadata": {},
     "output_type": "display_data"
    },
    {
     "data": {
      "application/vnd.jupyter.widget-view+json": {
       "model_id": "b707d448f2b34096a60de38e1d6a3e91",
       "version_major": 2,
       "version_minor": 0
      },
      "text/plain": [
       "Epoch 1/10 [Test]:   0%|          | 0/313 [00:00<?, ?it/s]"
      ]
     },
     "metadata": {},
     "output_type": "display_data"
    },
    {
     "name": "stdout",
     "output_type": "stream",
     "text": [
      "Epoch 1/10: Train Acc: 11.04%, Test Acc: 11.35%, Time: 54.3s\n"
     ]
    },
    {
     "data": {
      "application/vnd.jupyter.widget-view+json": {
       "model_id": "2b8bcbebf69a4d72b608b69ca5740536",
       "version_major": 2,
       "version_minor": 0
      },
      "text/plain": [
       "Epoch 2/10 [Train]:   0%|          | 0/1875 [00:00<?, ?it/s]"
      ]
     },
     "metadata": {},
     "output_type": "display_data"
    },
    {
     "data": {
      "application/vnd.jupyter.widget-view+json": {
       "model_id": "642aed9af0e74cc7893aa7b168aec06d",
       "version_major": 2,
       "version_minor": 0
      },
      "text/plain": [
       "Epoch 2/10 [Test]:   0%|          | 0/313 [00:00<?, ?it/s]"
      ]
     },
     "metadata": {},
     "output_type": "display_data"
    },
    {
     "name": "stdout",
     "output_type": "stream",
     "text": [
      "Epoch 2/10: Train Acc: 19.53%, Test Acc: 26.21%, Time: 52.9s\n"
     ]
    },
    {
     "data": {
      "application/vnd.jupyter.widget-view+json": {
       "model_id": "ff56ee9c9b7f4e299db3216c5bad72dd",
       "version_major": 2,
       "version_minor": 0
      },
      "text/plain": [
       "Epoch 3/10 [Train]:   0%|          | 0/1875 [00:00<?, ?it/s]"
      ]
     },
     "metadata": {},
     "output_type": "display_data"
    },
    {
     "data": {
      "application/vnd.jupyter.widget-view+json": {
       "model_id": "c80ea78601994f1092e73abf50bbd994",
       "version_major": 2,
       "version_minor": 0
      },
      "text/plain": [
       "Epoch 3/10 [Test]:   0%|          | 0/313 [00:00<?, ?it/s]"
      ]
     },
     "metadata": {},
     "output_type": "display_data"
    },
    {
     "name": "stdout",
     "output_type": "stream",
     "text": [
      "Epoch 3/10: Train Acc: 26.35%, Test Acc: 27.07%, Time: 53.2s\n"
     ]
    },
    {
     "data": {
      "application/vnd.jupyter.widget-view+json": {
       "model_id": "c5766f8d17dd4a2caeb53635922db92a",
       "version_major": 2,
       "version_minor": 0
      },
      "text/plain": [
       "Epoch 4/10 [Train]:   0%|          | 0/1875 [00:00<?, ?it/s]"
      ]
     },
     "metadata": {},
     "output_type": "display_data"
    },
    {
     "data": {
      "application/vnd.jupyter.widget-view+json": {
       "model_id": "1bac0ac8c1e7405490ec2caa64bf4680",
       "version_major": 2,
       "version_minor": 0
      },
      "text/plain": [
       "Epoch 4/10 [Test]:   0%|          | 0/313 [00:00<?, ?it/s]"
      ]
     },
     "metadata": {},
     "output_type": "display_data"
    },
    {
     "name": "stdout",
     "output_type": "stream",
     "text": [
      "Epoch 4/10: Train Acc: 27.94%, Test Acc: 29.99%, Time: 53.4s\n"
     ]
    },
    {
     "data": {
      "application/vnd.jupyter.widget-view+json": {
       "model_id": "1f9bc0cd095748439687d6e130174e49",
       "version_major": 2,
       "version_minor": 0
      },
      "text/plain": [
       "Epoch 5/10 [Train]:   0%|          | 0/1875 [00:00<?, ?it/s]"
      ]
     },
     "metadata": {},
     "output_type": "display_data"
    },
    {
     "data": {
      "application/vnd.jupyter.widget-view+json": {
       "model_id": "f7d54bdc58aa4cd885173ee3ac74b3ea",
       "version_major": 2,
       "version_minor": 0
      },
      "text/plain": [
       "Epoch 5/10 [Test]:   0%|          | 0/313 [00:00<?, ?it/s]"
      ]
     },
     "metadata": {},
     "output_type": "display_data"
    },
    {
     "name": "stdout",
     "output_type": "stream",
     "text": [
      "Epoch 5/10: Train Acc: 41.38%, Test Acc: 63.28%, Time: 53.3s\n"
     ]
    },
    {
     "data": {
      "application/vnd.jupyter.widget-view+json": {
       "model_id": "fd46f62d8e644376a6cf63d1f9736e90",
       "version_major": 2,
       "version_minor": 0
      },
      "text/plain": [
       "Epoch 6/10 [Train]:   0%|          | 0/1875 [00:00<?, ?it/s]"
      ]
     },
     "metadata": {},
     "output_type": "display_data"
    },
    {
     "data": {
      "application/vnd.jupyter.widget-view+json": {
       "model_id": "6f514f6561324c728df8179ab0f520fb",
       "version_major": 2,
       "version_minor": 0
      },
      "text/plain": [
       "Epoch 6/10 [Test]:   0%|          | 0/313 [00:00<?, ?it/s]"
      ]
     },
     "metadata": {},
     "output_type": "display_data"
    },
    {
     "name": "stdout",
     "output_type": "stream",
     "text": [
      "Epoch 6/10: Train Acc: 70.64%, Test Acc: 66.31%, Time: 52.9s\n"
     ]
    },
    {
     "data": {
      "application/vnd.jupyter.widget-view+json": {
       "model_id": "53c742a58cc3456991677ef6c07669e4",
       "version_major": 2,
       "version_minor": 0
      },
      "text/plain": [
       "Epoch 7/10 [Train]:   0%|          | 0/1875 [00:00<?, ?it/s]"
      ]
     },
     "metadata": {},
     "output_type": "display_data"
    },
    {
     "data": {
      "application/vnd.jupyter.widget-view+json": {
       "model_id": "d0886338ed2140efb25e7b3f6ffa460e",
       "version_major": 2,
       "version_minor": 0
      },
      "text/plain": [
       "Epoch 7/10 [Test]:   0%|          | 0/313 [00:00<?, ?it/s]"
      ]
     },
     "metadata": {},
     "output_type": "display_data"
    },
    {
     "name": "stdout",
     "output_type": "stream",
     "text": [
      "Epoch 7/10: Train Acc: 77.20%, Test Acc: 80.14%, Time: 53.0s\n"
     ]
    },
    {
     "data": {
      "application/vnd.jupyter.widget-view+json": {
       "model_id": "827827a45af94067b6c85d23ad2dc5b1",
       "version_major": 2,
       "version_minor": 0
      },
      "text/plain": [
       "Epoch 8/10 [Train]:   0%|          | 0/1875 [00:00<?, ?it/s]"
      ]
     },
     "metadata": {},
     "output_type": "display_data"
    },
    {
     "data": {
      "application/vnd.jupyter.widget-view+json": {
       "model_id": "6c22d8a8864c42c885d3ef53cf99e974",
       "version_major": 2,
       "version_minor": 0
      },
      "text/plain": [
       "Epoch 8/10 [Test]:   0%|          | 0/313 [00:00<?, ?it/s]"
      ]
     },
     "metadata": {},
     "output_type": "display_data"
    },
    {
     "name": "stdout",
     "output_type": "stream",
     "text": [
      "Epoch 8/10: Train Acc: 80.44%, Test Acc: 82.77%, Time: 53.1s\n"
     ]
    },
    {
     "data": {
      "application/vnd.jupyter.widget-view+json": {
       "model_id": "c699e7eba9a64fcc8a3ee0d16fc08d07",
       "version_major": 2,
       "version_minor": 0
      },
      "text/plain": [
       "Epoch 9/10 [Train]:   0%|          | 0/1875 [00:00<?, ?it/s]"
      ]
     },
     "metadata": {},
     "output_type": "display_data"
    },
    {
     "data": {
      "application/vnd.jupyter.widget-view+json": {
       "model_id": "cceed8f3fc2e4b6698f3ce1301d79fda",
       "version_major": 2,
       "version_minor": 0
      },
      "text/plain": [
       "Epoch 9/10 [Test]:   0%|          | 0/313 [00:00<?, ?it/s]"
      ]
     },
     "metadata": {},
     "output_type": "display_data"
    },
    {
     "name": "stdout",
     "output_type": "stream",
     "text": [
      "Epoch 9/10: Train Acc: 82.51%, Test Acc: 84.46%, Time: 53.0s\n"
     ]
    },
    {
     "data": {
      "application/vnd.jupyter.widget-view+json": {
       "model_id": "064b01e688d74cb4a939b900010b727f",
       "version_major": 2,
       "version_minor": 0
      },
      "text/plain": [
       "Epoch 10/10 [Train]:   0%|          | 0/1875 [00:00<?, ?it/s]"
      ]
     },
     "metadata": {},
     "output_type": "display_data"
    },
    {
     "data": {
      "application/vnd.jupyter.widget-view+json": {
       "model_id": "daeb69fcf18940e78aede218bad07b33",
       "version_major": 2,
       "version_minor": 0
      },
      "text/plain": [
       "Epoch 10/10 [Test]:   0%|          | 0/313 [00:00<?, ?it/s]"
      ]
     },
     "metadata": {},
     "output_type": "display_data"
    },
    {
     "name": "stdout",
     "output_type": "stream",
     "text": [
      "Epoch 10/10: Train Acc: 83.87%, Test Acc: 84.17%, Time: 53.2s\n",
      "✅ True_Baseline training complete. Best test accuracy: 84.46%\n",
      "\n",
      "==================================================\n",
      "Starting training for Learnable_Position\n",
      "==================================================\n",
      "Training Learnable_Position...\n",
      "\n",
      "==================================================\n",
      "Starting training for Learnable_Position\n",
      "==================================================\n",
      "Training Learnable_Position...\n"
     ]
    },
    {
     "data": {
      "application/vnd.jupyter.widget-view+json": {
       "model_id": "7e1a9e3c75af495cbda2f28bdb8b93e7",
       "version_major": 2,
       "version_minor": 0
      },
      "text/plain": [
       "Epoch 1/10 [Train]:   0%|          | 0/1875 [00:00<?, ?it/s]"
      ]
     },
     "metadata": {},
     "output_type": "display_data"
    },
    {
     "data": {
      "application/vnd.jupyter.widget-view+json": {
       "model_id": "87eefe69f4814c81bf562cbe722224d1",
       "version_major": 2,
       "version_minor": 0
      },
      "text/plain": [
       "Epoch 1/10 [Test]:   0%|          | 0/313 [00:00<?, ?it/s]"
      ]
     },
     "metadata": {},
     "output_type": "display_data"
    },
    {
     "name": "stdout",
     "output_type": "stream",
     "text": [
      "Epoch 1/10: Train Acc: 72.39%, Test Acc: 87.73%, Time: 60.6s\n"
     ]
    },
    {
     "data": {
      "application/vnd.jupyter.widget-view+json": {
       "model_id": "db3b71b36f224f51a6e5f67d81323665",
       "version_major": 2,
       "version_minor": 0
      },
      "text/plain": [
       "Epoch 2/10 [Train]:   0%|          | 0/1875 [00:00<?, ?it/s]"
      ]
     },
     "metadata": {},
     "output_type": "display_data"
    },
    {
     "data": {
      "application/vnd.jupyter.widget-view+json": {
       "model_id": "db741edf920749e0826c1ce649de174c",
       "version_major": 2,
       "version_minor": 0
      },
      "text/plain": [
       "Epoch 2/10 [Test]:   0%|          | 0/313 [00:00<?, ?it/s]"
      ]
     },
     "metadata": {},
     "output_type": "display_data"
    },
    {
     "name": "stdout",
     "output_type": "stream",
     "text": [
      "Epoch 2/10: Train Acc: 90.24%, Test Acc: 93.58%, Time: 59.7s\n"
     ]
    },
    {
     "data": {
      "application/vnd.jupyter.widget-view+json": {
       "model_id": "af6f6d67b9484b19a727c5b5f8e71da2",
       "version_major": 2,
       "version_minor": 0
      },
      "text/plain": [
       "Epoch 3/10 [Train]:   0%|          | 0/1875 [00:00<?, ?it/s]"
      ]
     },
     "metadata": {},
     "output_type": "display_data"
    },
    {
     "data": {
      "application/vnd.jupyter.widget-view+json": {
       "model_id": "2f1845222fe54251bed67b111dde4915",
       "version_major": 2,
       "version_minor": 0
      },
      "text/plain": [
       "Epoch 3/10 [Test]:   0%|          | 0/313 [00:00<?, ?it/s]"
      ]
     },
     "metadata": {},
     "output_type": "display_data"
    },
    {
     "name": "stdout",
     "output_type": "stream",
     "text": [
      "Epoch 3/10: Train Acc: 94.00%, Test Acc: 95.25%, Time: 59.9s\n"
     ]
    },
    {
     "data": {
      "application/vnd.jupyter.widget-view+json": {
       "model_id": "7344c6bb0d2e44c6bda1019cd4cd4f70",
       "version_major": 2,
       "version_minor": 0
      },
      "text/plain": [
       "Epoch 4/10 [Train]:   0%|          | 0/1875 [00:00<?, ?it/s]"
      ]
     },
     "metadata": {},
     "output_type": "display_data"
    },
    {
     "data": {
      "application/vnd.jupyter.widget-view+json": {
       "model_id": "e1b93719c78340b5b675188bb209fe6f",
       "version_major": 2,
       "version_minor": 0
      },
      "text/plain": [
       "Epoch 4/10 [Test]:   0%|          | 0/313 [00:00<?, ?it/s]"
      ]
     },
     "metadata": {},
     "output_type": "display_data"
    },
    {
     "name": "stdout",
     "output_type": "stream",
     "text": [
      "Epoch 4/10: Train Acc: 95.62%, Test Acc: 95.82%, Time: 59.7s\n"
     ]
    },
    {
     "data": {
      "application/vnd.jupyter.widget-view+json": {
       "model_id": "9d507c30327a4d3bb6f01250ffa541d4",
       "version_major": 2,
       "version_minor": 0
      },
      "text/plain": [
       "Epoch 5/10 [Train]:   0%|          | 0/1875 [00:00<?, ?it/s]"
      ]
     },
     "metadata": {},
     "output_type": "display_data"
    },
    {
     "data": {
      "application/vnd.jupyter.widget-view+json": {
       "model_id": "15958a4db7f340f3bdfdbea4d2a68870",
       "version_major": 2,
       "version_minor": 0
      },
      "text/plain": [
       "Epoch 5/10 [Test]:   0%|          | 0/313 [00:00<?, ?it/s]"
      ]
     },
     "metadata": {},
     "output_type": "display_data"
    },
    {
     "name": "stdout",
     "output_type": "stream",
     "text": [
      "Epoch 5/10: Train Acc: 96.51%, Test Acc: 96.30%, Time: 59.9s\n"
     ]
    },
    {
     "data": {
      "application/vnd.jupyter.widget-view+json": {
       "model_id": "97b4abc18dd54ebd8fcbc9403781369b",
       "version_major": 2,
       "version_minor": 0
      },
      "text/plain": [
       "Epoch 6/10 [Train]:   0%|          | 0/1875 [00:00<?, ?it/s]"
      ]
     },
     "metadata": {},
     "output_type": "display_data"
    },
    {
     "data": {
      "application/vnd.jupyter.widget-view+json": {
       "model_id": "edaa4f3526ab4709978b5fca4fc35697",
       "version_major": 2,
       "version_minor": 0
      },
      "text/plain": [
       "Epoch 6/10 [Test]:   0%|          | 0/313 [00:00<?, ?it/s]"
      ]
     },
     "metadata": {},
     "output_type": "display_data"
    },
    {
     "name": "stdout",
     "output_type": "stream",
     "text": [
      "Epoch 6/10: Train Acc: 97.10%, Test Acc: 96.65%, Time: 60.0s\n"
     ]
    },
    {
     "data": {
      "application/vnd.jupyter.widget-view+json": {
       "model_id": "a993dbf1c1784e449c337fddb39b319e",
       "version_major": 2,
       "version_minor": 0
      },
      "text/plain": [
       "Epoch 7/10 [Train]:   0%|          | 0/1875 [00:00<?, ?it/s]"
      ]
     },
     "metadata": {},
     "output_type": "display_data"
    },
    {
     "data": {
      "application/vnd.jupyter.widget-view+json": {
       "model_id": "2a3c11b040bc4a3589ef68e16ee827e8",
       "version_major": 2,
       "version_minor": 0
      },
      "text/plain": [
       "Epoch 7/10 [Test]:   0%|          | 0/313 [00:00<?, ?it/s]"
      ]
     },
     "metadata": {},
     "output_type": "display_data"
    },
    {
     "name": "stdout",
     "output_type": "stream",
     "text": [
      "Epoch 7/10: Train Acc: 97.49%, Test Acc: 96.70%, Time: 59.9s\n"
     ]
    },
    {
     "data": {
      "application/vnd.jupyter.widget-view+json": {
       "model_id": "06b2d28608384e02b340b4fcce6de8ff",
       "version_major": 2,
       "version_minor": 0
      },
      "text/plain": [
       "Epoch 8/10 [Train]:   0%|          | 0/1875 [00:00<?, ?it/s]"
      ]
     },
     "metadata": {},
     "output_type": "display_data"
    },
    {
     "data": {
      "application/vnd.jupyter.widget-view+json": {
       "model_id": "231233e581704ed6809f901a1eb129e4",
       "version_major": 2,
       "version_minor": 0
      },
      "text/plain": [
       "Epoch 8/10 [Test]:   0%|          | 0/313 [00:00<?, ?it/s]"
      ]
     },
     "metadata": {},
     "output_type": "display_data"
    },
    {
     "name": "stdout",
     "output_type": "stream",
     "text": [
      "Epoch 8/10: Train Acc: 97.83%, Test Acc: 97.20%, Time: 60.1s\n"
     ]
    },
    {
     "data": {
      "application/vnd.jupyter.widget-view+json": {
       "model_id": "93dcdc1624f74fab95a96e3d5122e732",
       "version_major": 2,
       "version_minor": 0
      },
      "text/plain": [
       "Epoch 9/10 [Train]:   0%|          | 0/1875 [00:00<?, ?it/s]"
      ]
     },
     "metadata": {},
     "output_type": "display_data"
    },
    {
     "data": {
      "application/vnd.jupyter.widget-view+json": {
       "model_id": "7fdad9b52fae4f47aa1843b4f2e41479",
       "version_major": 2,
       "version_minor": 0
      },
      "text/plain": [
       "Epoch 9/10 [Test]:   0%|          | 0/313 [00:00<?, ?it/s]"
      ]
     },
     "metadata": {},
     "output_type": "display_data"
    },
    {
     "name": "stdout",
     "output_type": "stream",
     "text": [
      "Epoch 9/10: Train Acc: 98.21%, Test Acc: 96.89%, Time: 60.2s\n"
     ]
    },
    {
     "data": {
      "application/vnd.jupyter.widget-view+json": {
       "model_id": "1be9fc463bcf484c95830bbe70586de7",
       "version_major": 2,
       "version_minor": 0
      },
      "text/plain": [
       "Epoch 10/10 [Train]:   0%|          | 0/1875 [00:00<?, ?it/s]"
      ]
     },
     "metadata": {},
     "output_type": "display_data"
    },
    {
     "data": {
      "application/vnd.jupyter.widget-view+json": {
       "model_id": "74652f0cfa004ba2a7ab20144504db62",
       "version_major": 2,
       "version_minor": 0
      },
      "text/plain": [
       "Epoch 10/10 [Test]:   0%|          | 0/313 [00:00<?, ?it/s]"
      ]
     },
     "metadata": {},
     "output_type": "display_data"
    },
    {
     "name": "stdout",
     "output_type": "stream",
     "text": [
      "Epoch 10/10: Train Acc: 98.45%, Test Acc: 97.08%, Time: 59.9s\n",
      "✅ Learnable_Position training complete. Best test accuracy: 97.20%\n",
      "\n",
      "==================================================\n",
      "Starting training for SinCos_LSTM\n",
      "==================================================\n",
      "Training SinCos_LSTM...\n"
     ]
    },
    {
     "data": {
      "application/vnd.jupyter.widget-view+json": {
       "model_id": "8e717c2dd5dd46ccbc299d384650bb52",
       "version_major": 2,
       "version_minor": 0
      },
      "text/plain": [
       "Epoch 1/10 [Train]:   0%|          | 0/1875 [00:00<?, ?it/s]"
      ]
     },
     "metadata": {},
     "output_type": "display_data"
    },
    {
     "data": {
      "application/vnd.jupyter.widget-view+json": {
       "model_id": "79aabf376a764c35b75ce73368382e3b",
       "version_major": 2,
       "version_minor": 0
      },
      "text/plain": [
       "Epoch 1/10 [Test]:   0%|          | 0/313 [00:00<?, ?it/s]"
      ]
     },
     "metadata": {},
     "output_type": "display_data"
    },
    {
     "name": "stdout",
     "output_type": "stream",
     "text": [
      "Epoch 1/10: Train Acc: 50.36%, Test Acc: 70.29%, Time: 60.0s\n"
     ]
    },
    {
     "data": {
      "application/vnd.jupyter.widget-view+json": {
       "model_id": "6f49e20015434b9f882e24422300d82d",
       "version_major": 2,
       "version_minor": 0
      },
      "text/plain": [
       "Epoch 2/10 [Train]:   0%|          | 0/1875 [00:00<?, ?it/s]"
      ]
     },
     "metadata": {},
     "output_type": "display_data"
    },
    {
     "data": {
      "application/vnd.jupyter.widget-view+json": {
       "model_id": "ad16703101d549c48b932242a1be3d40",
       "version_major": 2,
       "version_minor": 0
      },
      "text/plain": [
       "Epoch 2/10 [Test]:   0%|          | 0/313 [00:00<?, ?it/s]"
      ]
     },
     "metadata": {},
     "output_type": "display_data"
    },
    {
     "name": "stdout",
     "output_type": "stream",
     "text": [
      "Epoch 2/10: Train Acc: 74.71%, Test Acc: 78.67%, Time: 59.9s\n"
     ]
    },
    {
     "data": {
      "application/vnd.jupyter.widget-view+json": {
       "model_id": "c84a4881d771445e8913af808627a8df",
       "version_major": 2,
       "version_minor": 0
      },
      "text/plain": [
       "Epoch 3/10 [Train]:   0%|          | 0/1875 [00:00<?, ?it/s]"
      ]
     },
     "metadata": {},
     "output_type": "display_data"
    },
    {
     "data": {
      "application/vnd.jupyter.widget-view+json": {
       "model_id": "a7bc6a0a01d445e3a9b138845080c1b7",
       "version_major": 2,
       "version_minor": 0
      },
      "text/plain": [
       "Epoch 3/10 [Test]:   0%|          | 0/313 [00:00<?, ?it/s]"
      ]
     },
     "metadata": {},
     "output_type": "display_data"
    },
    {
     "name": "stdout",
     "output_type": "stream",
     "text": [
      "Epoch 3/10: Train Acc: 80.88%, Test Acc: 84.42%, Time: 60.1s\n"
     ]
    },
    {
     "data": {
      "application/vnd.jupyter.widget-view+json": {
       "model_id": "151149ceb1c74ca38cae535526de0404",
       "version_major": 2,
       "version_minor": 0
      },
      "text/plain": [
       "Epoch 4/10 [Train]:   0%|          | 0/1875 [00:00<?, ?it/s]"
      ]
     },
     "metadata": {},
     "output_type": "display_data"
    },
    {
     "data": {
      "application/vnd.jupyter.widget-view+json": {
       "model_id": "171b022e37b94a439bb2f99419c54402",
       "version_major": 2,
       "version_minor": 0
      },
      "text/plain": [
       "Epoch 4/10 [Test]:   0%|          | 0/313 [00:00<?, ?it/s]"
      ]
     },
     "metadata": {},
     "output_type": "display_data"
    },
    {
     "name": "stdout",
     "output_type": "stream",
     "text": [
      "Epoch 4/10: Train Acc: 85.35%, Test Acc: 86.96%, Time: 60.0s\n"
     ]
    },
    {
     "data": {
      "application/vnd.jupyter.widget-view+json": {
       "model_id": "b1927db37c024b4da86c943df7cc61be",
       "version_major": 2,
       "version_minor": 0
      },
      "text/plain": [
       "Epoch 5/10 [Train]:   0%|          | 0/1875 [00:00<?, ?it/s]"
      ]
     },
     "metadata": {},
     "output_type": "display_data"
    },
    {
     "data": {
      "application/vnd.jupyter.widget-view+json": {
       "model_id": "5f8104f14a8545c799714fba7ddc006a",
       "version_major": 2,
       "version_minor": 0
      },
      "text/plain": [
       "Epoch 5/10 [Test]:   0%|          | 0/313 [00:00<?, ?it/s]"
      ]
     },
     "metadata": {},
     "output_type": "display_data"
    },
    {
     "name": "stdout",
     "output_type": "stream",
     "text": [
      "Epoch 5/10: Train Acc: 87.74%, Test Acc: 89.35%, Time: 59.9s\n"
     ]
    },
    {
     "data": {
      "application/vnd.jupyter.widget-view+json": {
       "model_id": "a60566a288e44a27987b4e6ea6a65a51",
       "version_major": 2,
       "version_minor": 0
      },
      "text/plain": [
       "Epoch 6/10 [Train]:   0%|          | 0/1875 [00:00<?, ?it/s]"
      ]
     },
     "metadata": {},
     "output_type": "display_data"
    },
    {
     "data": {
      "application/vnd.jupyter.widget-view+json": {
       "model_id": "75a470fca12f4d92afcbc89190a1712f",
       "version_major": 2,
       "version_minor": 0
      },
      "text/plain": [
       "Epoch 6/10 [Test]:   0%|          | 0/313 [00:00<?, ?it/s]"
      ]
     },
     "metadata": {},
     "output_type": "display_data"
    },
    {
     "name": "stdout",
     "output_type": "stream",
     "text": [
      "Epoch 6/10: Train Acc: 89.58%, Test Acc: 89.90%, Time: 60.2s\n"
     ]
    },
    {
     "data": {
      "application/vnd.jupyter.widget-view+json": {
       "model_id": "a82aaa22b0e345d1992720d81d806ea2",
       "version_major": 2,
       "version_minor": 0
      },
      "text/plain": [
       "Epoch 7/10 [Train]:   0%|          | 0/1875 [00:00<?, ?it/s]"
      ]
     },
     "metadata": {},
     "output_type": "display_data"
    },
    {
     "data": {
      "application/vnd.jupyter.widget-view+json": {
       "model_id": "fce8ee3a3e094c95926c5be75d8bfaf3",
       "version_major": 2,
       "version_minor": 0
      },
      "text/plain": [
       "Epoch 7/10 [Test]:   0%|          | 0/313 [00:00<?, ?it/s]"
      ]
     },
     "metadata": {},
     "output_type": "display_data"
    },
    {
     "name": "stdout",
     "output_type": "stream",
     "text": [
      "Epoch 7/10: Train Acc: 90.68%, Test Acc: 89.12%, Time: 60.2s\n"
     ]
    },
    {
     "data": {
      "application/vnd.jupyter.widget-view+json": {
       "model_id": "4e85081a2fd14befba450e037586cb19",
       "version_major": 2,
       "version_minor": 0
      },
      "text/plain": [
       "Epoch 8/10 [Train]:   0%|          | 0/1875 [00:00<?, ?it/s]"
      ]
     },
     "metadata": {},
     "output_type": "display_data"
    },
    {
     "data": {
      "application/vnd.jupyter.widget-view+json": {
       "model_id": "aa3dc9f22b654111b7ba82e5859a2884",
       "version_major": 2,
       "version_minor": 0
      },
      "text/plain": [
       "Epoch 8/10 [Test]:   0%|          | 0/313 [00:00<?, ?it/s]"
      ]
     },
     "metadata": {},
     "output_type": "display_data"
    },
    {
     "name": "stdout",
     "output_type": "stream",
     "text": [
      "Epoch 8/10: Train Acc: 91.64%, Test Acc: 91.91%, Time: 59.5s\n"
     ]
    },
    {
     "data": {
      "application/vnd.jupyter.widget-view+json": {
       "model_id": "13a09a79852c484dacea07456acdbdd7",
       "version_major": 2,
       "version_minor": 0
      },
      "text/plain": [
       "Epoch 9/10 [Train]:   0%|          | 0/1875 [00:00<?, ?it/s]"
      ]
     },
     "metadata": {},
     "output_type": "display_data"
    },
    {
     "data": {
      "application/vnd.jupyter.widget-view+json": {
       "model_id": "927dd50af9394e51b192d338a29cdee6",
       "version_major": 2,
       "version_minor": 0
      },
      "text/plain": [
       "Epoch 9/10 [Test]:   0%|          | 0/313 [00:00<?, ?it/s]"
      ]
     },
     "metadata": {},
     "output_type": "display_data"
    },
    {
     "name": "stdout",
     "output_type": "stream",
     "text": [
      "Epoch 9/10: Train Acc: 92.45%, Test Acc: 92.11%, Time: 60.0s\n"
     ]
    },
    {
     "data": {
      "application/vnd.jupyter.widget-view+json": {
       "model_id": "a2b67994d7c1480f8d7f433e2b4dd4cc",
       "version_major": 2,
       "version_minor": 0
      },
      "text/plain": [
       "Epoch 10/10 [Train]:   0%|          | 0/1875 [00:00<?, ?it/s]"
      ]
     },
     "metadata": {},
     "output_type": "display_data"
    },
    {
     "data": {
      "application/vnd.jupyter.widget-view+json": {
       "model_id": "546f3629ca9f4e02aa0bd4f00347a28e",
       "version_major": 2,
       "version_minor": 0
      },
      "text/plain": [
       "Epoch 10/10 [Test]:   0%|          | 0/313 [00:00<?, ?it/s]"
      ]
     },
     "metadata": {},
     "output_type": "display_data"
    },
    {
     "name": "stdout",
     "output_type": "stream",
     "text": [
      "Epoch 10/10: Train Acc: 92.95%, Test Acc: 92.75%, Time: 59.9s\n",
      "✅ SinCos_LSTM training complete. Best test accuracy: 92.75%\n",
      "\n",
      "==================================================\n",
      "Starting training for LETE_LSTM\n",
      "==================================================\n",
      "Training LETE_LSTM...\n"
     ]
    },
    {
     "data": {
      "application/vnd.jupyter.widget-view+json": {
       "model_id": "441f2e905c7f4a78915d2a3dc8a8322b",
       "version_major": 2,
       "version_minor": 0
      },
      "text/plain": [
       "Epoch 1/10 [Train]:   0%|          | 0/1875 [00:00<?, ?it/s]"
      ]
     },
     "metadata": {},
     "output_type": "display_data"
    },
    {
     "data": {
      "application/vnd.jupyter.widget-view+json": {
       "model_id": "eecafebf7bcc407581ee535bda555d95",
       "version_major": 2,
       "version_minor": 0
      },
      "text/plain": [
       "Epoch 1/10 [Test]:   0%|          | 0/313 [00:00<?, ?it/s]"
      ]
     },
     "metadata": {},
     "output_type": "display_data"
    },
    {
     "name": "stdout",
     "output_type": "stream",
     "text": [
      "Epoch 1/10: Train Acc: 45.48%, Test Acc: 69.64%, Time: 71.1s\n"
     ]
    },
    {
     "data": {
      "application/vnd.jupyter.widget-view+json": {
       "model_id": "b2aed99b2bbe45408800a1d10f9d5878",
       "version_major": 2,
       "version_minor": 0
      },
      "text/plain": [
       "Epoch 2/10 [Train]:   0%|          | 0/1875 [00:00<?, ?it/s]"
      ]
     },
     "metadata": {},
     "output_type": "display_data"
    },
    {
     "data": {
      "application/vnd.jupyter.widget-view+json": {
       "model_id": "95ae4cde5d3b4e7f8e58138e9740705e",
       "version_major": 2,
       "version_minor": 0
      },
      "text/plain": [
       "Epoch 2/10 [Test]:   0%|          | 0/313 [00:00<?, ?it/s]"
      ]
     },
     "metadata": {},
     "output_type": "display_data"
    },
    {
     "name": "stdout",
     "output_type": "stream",
     "text": [
      "Epoch 2/10: Train Acc: 71.78%, Test Acc: 73.58%, Time: 69.2s\n"
     ]
    },
    {
     "data": {
      "application/vnd.jupyter.widget-view+json": {
       "model_id": "f9602b56c1114cbd943a0dc918eb2fc7",
       "version_major": 2,
       "version_minor": 0
      },
      "text/plain": [
       "Epoch 3/10 [Train]:   0%|          | 0/1875 [00:00<?, ?it/s]"
      ]
     },
     "metadata": {},
     "output_type": "display_data"
    },
    {
     "data": {
      "application/vnd.jupyter.widget-view+json": {
       "model_id": "44e9ac6c649f4c428f5069e8bcb312bd",
       "version_major": 2,
       "version_minor": 0
      },
      "text/plain": [
       "Epoch 3/10 [Test]:   0%|          | 0/313 [00:00<?, ?it/s]"
      ]
     },
     "metadata": {},
     "output_type": "display_data"
    },
    {
     "name": "stdout",
     "output_type": "stream",
     "text": [
      "Epoch 3/10: Train Acc: 78.87%, Test Acc: 81.10%, Time: 68.2s\n"
     ]
    },
    {
     "data": {
      "application/vnd.jupyter.widget-view+json": {
       "model_id": "ea399e66bc8d4e99ac853dedfc3ea282",
       "version_major": 2,
       "version_minor": 0
      },
      "text/plain": [
       "Epoch 4/10 [Train]:   0%|          | 0/1875 [00:00<?, ?it/s]"
      ]
     },
     "metadata": {},
     "output_type": "display_data"
    },
    {
     "data": {
      "application/vnd.jupyter.widget-view+json": {
       "model_id": "3aaa94e543134c299217bcfee745d80f",
       "version_major": 2,
       "version_minor": 0
      },
      "text/plain": [
       "Epoch 4/10 [Test]:   0%|          | 0/313 [00:00<?, ?it/s]"
      ]
     },
     "metadata": {},
     "output_type": "display_data"
    },
    {
     "name": "stdout",
     "output_type": "stream",
     "text": [
      "Epoch 4/10: Train Acc: 82.41%, Test Acc: 83.57%, Time: 68.8s\n"
     ]
    },
    {
     "data": {
      "application/vnd.jupyter.widget-view+json": {
       "model_id": "bb58673eb4d84efb83ec5bd97346ab22",
       "version_major": 2,
       "version_minor": 0
      },
      "text/plain": [
       "Epoch 5/10 [Train]:   0%|          | 0/1875 [00:00<?, ?it/s]"
      ]
     },
     "metadata": {},
     "output_type": "display_data"
    },
    {
     "data": {
      "application/vnd.jupyter.widget-view+json": {
       "model_id": "3eaaa78567324529b20864ac3b69e50a",
       "version_major": 2,
       "version_minor": 0
      },
      "text/plain": [
       "Epoch 5/10 [Test]:   0%|          | 0/313 [00:00<?, ?it/s]"
      ]
     },
     "metadata": {},
     "output_type": "display_data"
    },
    {
     "name": "stdout",
     "output_type": "stream",
     "text": [
      "Epoch 5/10: Train Acc: 84.19%, Test Acc: 85.46%, Time: 70.3s\n"
     ]
    },
    {
     "data": {
      "application/vnd.jupyter.widget-view+json": {
       "model_id": "ccefa2ec12ed42afbb10596bafdedf65",
       "version_major": 2,
       "version_minor": 0
      },
      "text/plain": [
       "Epoch 6/10 [Train]:   0%|          | 0/1875 [00:00<?, ?it/s]"
      ]
     },
     "metadata": {},
     "output_type": "display_data"
    },
    {
     "data": {
      "application/vnd.jupyter.widget-view+json": {
       "model_id": "6bf77f957e1941b493739d5c1f8067c5",
       "version_major": 2,
       "version_minor": 0
      },
      "text/plain": [
       "Epoch 6/10 [Test]:   0%|          | 0/313 [00:00<?, ?it/s]"
      ]
     },
     "metadata": {},
     "output_type": "display_data"
    },
    {
     "name": "stdout",
     "output_type": "stream",
     "text": [
      "Epoch 6/10: Train Acc: 85.67%, Test Acc: 87.08%, Time: 70.2s\n"
     ]
    },
    {
     "data": {
      "application/vnd.jupyter.widget-view+json": {
       "model_id": "befa1db46354471586a35fa77ae35695",
       "version_major": 2,
       "version_minor": 0
      },
      "text/plain": [
       "Epoch 7/10 [Train]:   0%|          | 0/1875 [00:00<?, ?it/s]"
      ]
     },
     "metadata": {},
     "output_type": "display_data"
    },
    {
     "data": {
      "application/vnd.jupyter.widget-view+json": {
       "model_id": "6f5d4bcbba424e2f854f31ebd0d20ac1",
       "version_major": 2,
       "version_minor": 0
      },
      "text/plain": [
       "Epoch 7/10 [Test]:   0%|          | 0/313 [00:00<?, ?it/s]"
      ]
     },
     "metadata": {},
     "output_type": "display_data"
    },
    {
     "name": "stdout",
     "output_type": "stream",
     "text": [
      "Epoch 7/10: Train Acc: 87.06%, Test Acc: 86.90%, Time: 68.3s\n"
     ]
    },
    {
     "data": {
      "application/vnd.jupyter.widget-view+json": {
       "model_id": "6c1e77d9067f4401b93fa94017c53b03",
       "version_major": 2,
       "version_minor": 0
      },
      "text/plain": [
       "Epoch 8/10 [Train]:   0%|          | 0/1875 [00:00<?, ?it/s]"
      ]
     },
     "metadata": {},
     "output_type": "display_data"
    },
    {
     "data": {
      "application/vnd.jupyter.widget-view+json": {
       "model_id": "fab9c2d0dcff4804a23eb5416ac5ee60",
       "version_major": 2,
       "version_minor": 0
      },
      "text/plain": [
       "Epoch 8/10 [Test]:   0%|          | 0/313 [00:00<?, ?it/s]"
      ]
     },
     "metadata": {},
     "output_type": "display_data"
    },
    {
     "name": "stdout",
     "output_type": "stream",
     "text": [
      "Epoch 8/10: Train Acc: 88.00%, Test Acc: 86.85%, Time: 69.5s\n"
     ]
    },
    {
     "data": {
      "application/vnd.jupyter.widget-view+json": {
       "model_id": "bd9192e74a4b469da8b96f7ba3860775",
       "version_major": 2,
       "version_minor": 0
      },
      "text/plain": [
       "Epoch 9/10 [Train]:   0%|          | 0/1875 [00:00<?, ?it/s]"
      ]
     },
     "metadata": {},
     "output_type": "display_data"
    },
    {
     "data": {
      "application/vnd.jupyter.widget-view+json": {
       "model_id": "e7e346592d76433bafec4504b7b9ec8e",
       "version_major": 2,
       "version_minor": 0
      },
      "text/plain": [
       "Epoch 9/10 [Test]:   0%|          | 0/313 [00:00<?, ?it/s]"
      ]
     },
     "metadata": {},
     "output_type": "display_data"
    },
    {
     "name": "stdout",
     "output_type": "stream",
     "text": [
      "Epoch 9/10: Train Acc: 88.93%, Test Acc: 88.25%, Time: 69.2s\n"
     ]
    },
    {
     "data": {
      "application/vnd.jupyter.widget-view+json": {
       "model_id": "6489812fc8bd4323b757e06a9a3df153",
       "version_major": 2,
       "version_minor": 0
      },
      "text/plain": [
       "Epoch 10/10 [Train]:   0%|          | 0/1875 [00:00<?, ?it/s]"
      ]
     },
     "metadata": {},
     "output_type": "display_data"
    },
    {
     "data": {
      "application/vnd.jupyter.widget-view+json": {
       "model_id": "7e1718643f1f4af0ab3e19e7bbb76aea",
       "version_major": 2,
       "version_minor": 0
      },
      "text/plain": [
       "Epoch 10/10 [Test]:   0%|          | 0/313 [00:00<?, ?it/s]"
      ]
     },
     "metadata": {},
     "output_type": "display_data"
    },
    {
     "name": "stdout",
     "output_type": "stream",
     "text": [
      "Epoch 10/10: Train Acc: 89.83%, Test Acc: 88.66%, Time: 69.6s\n",
      "✅ LETE_LSTM training complete. Best test accuracy: 88.66%\n",
      "\n",
      "==================================================\n",
      "Starting training for KAN_MAMMOTE_LSTM\n",
      "==================================================\n",
      "Training KAN_MAMMOTE_LSTM...\n"
     ]
    },
    {
     "data": {
      "application/vnd.jupyter.widget-view+json": {
       "model_id": "48eefc8d874d4516a3fcb8a6493b13af",
       "version_major": 2,
       "version_minor": 0
      },
      "text/plain": [
       "Epoch 1/10 [Train]:   0%|          | 0/1875 [00:00<?, ?it/s]"
      ]
     },
     "metadata": {},
     "output_type": "display_data"
    },
    {
     "data": {
      "application/vnd.jupyter.widget-view+json": {
       "model_id": "b301972e6e9b4abd98994c660380867b",
       "version_major": 2,
       "version_minor": 0
      },
      "text/plain": [
       "Epoch 1/10 [Test]:   0%|          | 0/313 [00:00<?, ?it/s]"
      ]
     },
     "metadata": {},
     "output_type": "display_data"
    },
    {
     "name": "stdout",
     "output_type": "stream",
     "text": [
      "Epoch 1/10: Train Acc: 47.02%, Test Acc: 69.35%, Time: 204.4s\n"
     ]
    },
    {
     "data": {
      "application/vnd.jupyter.widget-view+json": {
       "model_id": "abe93effa35c403db94b805166d5b0e1",
       "version_major": 2,
       "version_minor": 0
      },
      "text/plain": [
       "Epoch 2/10 [Train]:   0%|          | 0/1875 [00:00<?, ?it/s]"
      ]
     },
     "metadata": {},
     "output_type": "display_data"
    },
    {
     "data": {
      "application/vnd.jupyter.widget-view+json": {
       "model_id": "42d5608ff13a44faa157852e628d5cb2",
       "version_major": 2,
       "version_minor": 0
      },
      "text/plain": [
       "Epoch 2/10 [Test]:   0%|          | 0/313 [00:00<?, ?it/s]"
      ]
     },
     "metadata": {},
     "output_type": "display_data"
    },
    {
     "name": "stdout",
     "output_type": "stream",
     "text": [
      "Epoch 2/10: Train Acc: 72.03%, Test Acc: 78.26%, Time: 202.8s\n"
     ]
    },
    {
     "data": {
      "application/vnd.jupyter.widget-view+json": {
       "model_id": "32c4f11b22644631b9493f8a911d0210",
       "version_major": 2,
       "version_minor": 0
      },
      "text/plain": [
       "Epoch 3/10 [Train]:   0%|          | 0/1875 [00:00<?, ?it/s]"
      ]
     },
     "metadata": {},
     "output_type": "display_data"
    },
    {
     "data": {
      "application/vnd.jupyter.widget-view+json": {
       "model_id": "e3739a599dea44ec80a9f74bb2826f0f",
       "version_major": 2,
       "version_minor": 0
      },
      "text/plain": [
       "Epoch 3/10 [Test]:   0%|          | 0/313 [00:00<?, ?it/s]"
      ]
     },
     "metadata": {},
     "output_type": "display_data"
    },
    {
     "name": "stdout",
     "output_type": "stream",
     "text": [
      "Epoch 3/10: Train Acc: 78.22%, Test Acc: 81.70%, Time: 201.6s\n"
     ]
    },
    {
     "data": {
      "application/vnd.jupyter.widget-view+json": {
       "model_id": "4230d34aee034106ab65af41882959a0",
       "version_major": 2,
       "version_minor": 0
      },
      "text/plain": [
       "Epoch 4/10 [Train]:   0%|          | 0/1875 [00:00<?, ?it/s]"
      ]
     },
     "metadata": {},
     "output_type": "display_data"
    },
    {
     "data": {
      "application/vnd.jupyter.widget-view+json": {
       "model_id": "5baf584a130e42b39add062107b2c4b4",
       "version_major": 2,
       "version_minor": 0
      },
      "text/plain": [
       "Epoch 4/10 [Test]:   0%|          | 0/313 [00:00<?, ?it/s]"
      ]
     },
     "metadata": {},
     "output_type": "display_data"
    },
    {
     "name": "stdout",
     "output_type": "stream",
     "text": [
      "Epoch 4/10: Train Acc: 81.67%, Test Acc: 83.77%, Time: 202.3s\n"
     ]
    },
    {
     "data": {
      "application/vnd.jupyter.widget-view+json": {
       "model_id": "b23d7dc340864283aa9e215a077535b4",
       "version_major": 2,
       "version_minor": 0
      },
      "text/plain": [
       "Epoch 5/10 [Train]:   0%|          | 0/1875 [00:00<?, ?it/s]"
      ]
     },
     "metadata": {},
     "output_type": "display_data"
    },
    {
     "data": {
      "application/vnd.jupyter.widget-view+json": {
       "model_id": "ba41040e51554a61b755b1038f2b6f54",
       "version_major": 2,
       "version_minor": 0
      },
      "text/plain": [
       "Epoch 5/10 [Test]:   0%|          | 0/313 [00:00<?, ?it/s]"
      ]
     },
     "metadata": {},
     "output_type": "display_data"
    },
    {
     "name": "stdout",
     "output_type": "stream",
     "text": [
      "Epoch 5/10: Train Acc: 83.71%, Test Acc: 84.82%, Time: 201.9s\n"
     ]
    },
    {
     "data": {
      "application/vnd.jupyter.widget-view+json": {
       "model_id": "0eb4ec58b95e4254acd790a8797ee551",
       "version_major": 2,
       "version_minor": 0
      },
      "text/plain": [
       "Epoch 6/10 [Train]:   0%|          | 0/1875 [00:00<?, ?it/s]"
      ]
     },
     "metadata": {},
     "output_type": "display_data"
    },
    {
     "data": {
      "application/vnd.jupyter.widget-view+json": {
       "model_id": "5444674cfe574de98b10ae821c7fa1be",
       "version_major": 2,
       "version_minor": 0
      },
      "text/plain": [
       "Epoch 6/10 [Test]:   0%|          | 0/313 [00:00<?, ?it/s]"
      ]
     },
     "metadata": {},
     "output_type": "display_data"
    },
    {
     "name": "stdout",
     "output_type": "stream",
     "text": [
      "Epoch 6/10: Train Acc: 85.65%, Test Acc: 84.71%, Time: 202.9s\n"
     ]
    },
    {
     "data": {
      "application/vnd.jupyter.widget-view+json": {
       "model_id": "93cbf21131cc4ef8974ede8e4f4f8e38",
       "version_major": 2,
       "version_minor": 0
      },
      "text/plain": [
       "Epoch 7/10 [Train]:   0%|          | 0/1875 [00:00<?, ?it/s]"
      ]
     },
     "metadata": {},
     "output_type": "display_data"
    },
    {
     "data": {
      "application/vnd.jupyter.widget-view+json": {
       "model_id": "ca3937f692b74f39923dabc652eaf5c1",
       "version_major": 2,
       "version_minor": 0
      },
      "text/plain": [
       "Epoch 7/10 [Test]:   0%|          | 0/313 [00:00<?, ?it/s]"
      ]
     },
     "metadata": {},
     "output_type": "display_data"
    },
    {
     "name": "stdout",
     "output_type": "stream",
     "text": [
      "Epoch 7/10: Train Acc: 87.03%, Test Acc: 87.00%, Time: 203.8s\n"
     ]
    },
    {
     "data": {
      "application/vnd.jupyter.widget-view+json": {
       "model_id": "f90ca7d8ce2843f6a73586477aed33ec",
       "version_major": 2,
       "version_minor": 0
      },
      "text/plain": [
       "Epoch 8/10 [Train]:   0%|          | 0/1875 [00:00<?, ?it/s]"
      ]
     },
     "metadata": {},
     "output_type": "display_data"
    },
    {
     "data": {
      "application/vnd.jupyter.widget-view+json": {
       "model_id": "3b1fb58332fa4a859a5a17396edb1f57",
       "version_major": 2,
       "version_minor": 0
      },
      "text/plain": [
       "Epoch 8/10 [Test]:   0%|          | 0/313 [00:00<?, ?it/s]"
      ]
     },
     "metadata": {},
     "output_type": "display_data"
    },
    {
     "name": "stdout",
     "output_type": "stream",
     "text": [
      "Epoch 8/10: Train Acc: 88.11%, Test Acc: 87.67%, Time: 201.4s\n"
     ]
    },
    {
     "data": {
      "application/vnd.jupyter.widget-view+json": {
       "model_id": "419725c398fb499c80a300150c03958b",
       "version_major": 2,
       "version_minor": 0
      },
      "text/plain": [
       "Epoch 9/10 [Train]:   0%|          | 0/1875 [00:00<?, ?it/s]"
      ]
     },
     "metadata": {},
     "output_type": "display_data"
    },
    {
     "data": {
      "application/vnd.jupyter.widget-view+json": {
       "model_id": "a9b34f08f25f4263ab01ffadc6d8aaf6",
       "version_major": 2,
       "version_minor": 0
      },
      "text/plain": [
       "Epoch 9/10 [Test]:   0%|          | 0/313 [00:00<?, ?it/s]"
      ]
     },
     "metadata": {},
     "output_type": "display_data"
    },
    {
     "name": "stdout",
     "output_type": "stream",
     "text": [
      "Epoch 9/10: Train Acc: 89.10%, Test Acc: 87.99%, Time: 203.8s\n"
     ]
    },
    {
     "data": {
      "application/vnd.jupyter.widget-view+json": {
       "model_id": "76802df31e2946939f061de12ed505c8",
       "version_major": 2,
       "version_minor": 0
      },
      "text/plain": [
       "Epoch 10/10 [Train]:   0%|          | 0/1875 [00:00<?, ?it/s]"
      ]
     },
     "metadata": {},
     "output_type": "display_data"
    },
    {
     "data": {
      "application/vnd.jupyter.widget-view+json": {
       "model_id": "ab8112239a924b86833fde2bc98af732",
       "version_major": 2,
       "version_minor": 0
      },
      "text/plain": [
       "Epoch 10/10 [Test]:   0%|          | 0/313 [00:00<?, ?it/s]"
      ]
     },
     "metadata": {},
     "output_type": "display_data"
    },
    {
     "name": "stdout",
     "output_type": "stream",
     "text": [
      "Epoch 10/10: Train Acc: 89.84%, Test Acc: 87.90%, Time: 203.2s\n",
      "✅ KAN_MAMMOTE_LSTM training complete. Best test accuracy: 87.99%\n",
      "\n",
      "💾 Saving results...\n"
     ]
    },
    {
     "data": {
      "image/png": "[encoded data removed]",
      "text/plain": [
       "<Figure size 1500x1000 with 4 Axes>"
      ]
     },
     "metadata": {},
     "output_type": "display_data"
    },
    {
     "name": "stdout",
     "output_type": "stream",
     "text": [
      "✅ Training curves saved to /home/s2516027/kan-mammote/results/training_curves.png\n",
      "\n",
      "🎯 FINAL RESULTS SUMMARY:\n",
      "================================================================================\n",
      "True_Baseline       : 84.4600 acc | 200,458 params | 53.2s/epoch\n",
      "Learnable_Position  : 97.2000 acc | 283,018 params | 60.0s/epoch\n",
      "SinCos_LSTM         : 92.7500 acc | 232,842 params | 60.0s/epoch\n",
      "LETE_LSTM           : 88.6600 acc | 252,650 params | 69.4s/epoch\n",
      "KAN_MAMMOTE_LSTM    : 87.9900 acc | 418,862 params | 202.8s/epoch\n",
      "\n",
      "🏆 Best Model: Learnable_Position (Accuracy: 97.2000)\n",
      "\n",
      "💾 All results saved to: /home/s2516027/kan-mammote/results\n",
      "🎉 Comparison complete!\n"
     ]
    }
   ],
   "source": [
    "def main():\n",
    "    \"\"\"Main execution function with improved error handling - STOP ON ERROR version.\"\"\"\n",
    "    print(\"🚀 Starting LSTM Time Embedding Comparison - FIXED VERSION (STOP ON ERROR)...\")\n",
    "    \n",
    "    try:\n",
    "        # Create datasets\n",
    "        print(\"\\n📁 Loading datasets...\")\n",
    "        train_dataset = EventBasedMNIST(root='./data', train=True, threshold=THRESHOLD, download=True)\n",
    "        test_dataset = EventBasedMNIST(root='./data', train=False, threshold=THRESHOLD, download=True)\n",
    "        \n",
    "        # FIXED: Validate datasets\n",
    "        if len(train_dataset) == 0 or len(test_dataset) == 0:\n",
    "            raise ValueError(\"Empty dataset!\")\n",
    "        \n",
    "        print(f\"✅ Dataset loaded: {len(train_dataset)} train, {len(test_dataset)} test samples\")\n",
    "        \n",
    "        train_loader = DataLoader(train_dataset, batch_size=BATCH_SIZE, shuffle=True, collate_fn=collate_fn, num_workers=0)\n",
    "        test_loader = DataLoader(test_dataset, batch_size=BATCH_SIZE, shuffle=False, collate_fn=collate_fn, num_workers=0)\n",
    "        \n",
    "    except Exception as e:\n",
    "        print(f\"❌ ERROR LOADING DATASET - STOPPING: {e}\")\n",
    "        import traceback\n",
    "        traceback.print_exc()\n",
    "        return  # Stop execution\n",
    "    \n",
    "    # Define models to compare\n",
    "    models = {\n",
    "        \n",
    "        'True_Baseline': TrueBaselineLSTM(\n",
    "            input_size=784,\n",
    "            hidden_dim=LSTM_HIDDEN_DIM,\n",
    "            num_classes=10,\n",
    "            dropout=DROPOUT_RATE\n",
    "        ),\n",
    "       'Learnable_Position': LearnablePositionLSTM(\n",
    "            input_size=784,\n",
    "            hidden_dim=LSTM_HIDDEN_DIM,\n",
    "            num_classes=10,\n",
    "            dropout=DROPOUT_RATE\n",
    "        ),\n",
    "        'SinCos_LSTM': SinCosLSTM(\n",
    "            input_size=784,\n",
    "            hidden_dim=LSTM_HIDDEN_DIM,\n",
    "            num_classes=10,\n",
    "            dropout=DROPOUT_RATE\n",
    "        ),\n",
    "        'LETE_LSTM': LETE_LSTM_Fixed(\n",
    "            input_size=784,\n",
    "            hidden_dim=LSTM_HIDDEN_DIM,\n",
    "            num_classes=10,\n",
    "            dropout=DROPOUT_RATE\n",
    "        ),\n",
    "        \n",
    "        'KAN_MAMMOTE_LSTM': KAN_MAMMOTE_LSTM_Fixed(\n",
    "            input_size=784,\n",
    "            hidden_dim=LSTM_HIDDEN_DIM,\n",
    "            num_classes=10,\n",
    "            dropout=DROPOUT_RATE\n",
    "        )\n",
    "    }\n",
    "    \n",
    "    # Print model information\n",
    "    print(\"\\n📊 Model Information:\")\n",
    "    for name, model in models.items():\n",
    "        try:\n",
    "            param_count = count_parameters(model)\n",
    "            print(f\"   {name}: {param_count:,} parameters\")\n",
    "        except Exception as e:\n",
    "            print(f\"❌ ERROR COUNTING PARAMETERS FOR {name} - STOPPING: {e}\")\n",
    "            import traceback\n",
    "            traceback.print_exc()\n",
    "            return  # Stop execution if model parameter counting fails\n",
    "    \n",
    "    # Train all models\n",
    "    results = {}\n",
    "    best_accuracies = {}\n",
    "    \n",
    "    for model_name, model in models.items():\n",
    "        print(f\"\\n\" + \"=\"*50)\n",
    "        print(f\"Starting training for {model_name}\")\n",
    "        print(\"=\"*50)\n",
    "        \n",
    "        # No try-except here - let errors propagate and stop execution\n",
    "        history, best_acc = train_model(model, train_loader, test_loader, model_name)\n",
    "        results[model_name] = history\n",
    "        best_accuracies[model_name] = best_acc\n",
    "        \n",
    "        # Clean up memory after each model\n",
    "        del model\n",
    "        if torch.cuda.is_available():\n",
    "            torch.cuda.empty_cache()\n",
    "    \n",
    "    # Save results\n",
    "    print(\"\\n💾 Saving results...\")\n",
    "    \n",
    "    try:\n",
    "        # Save training histories\n",
    "        with open(f\"{RESULTS_DIR}/training_histories.json\", 'w') as f:\n",
    "            json.dump(results, f, indent=2)\n",
    "        \n",
    "        # Save summary results\n",
    "        summary = {\n",
    "            'best_accuracies': best_accuracies,\n",
    "            'model_parameters': {name: count_parameters(models[name]) if name in models else 0 for name in best_accuracies.keys()},\n",
    "            'configuration': {\n",
    "                'batch_size': BATCH_SIZE,\n",
    "                'learning_rate': LEARNING_RATE,\n",
    "                'num_epochs': NUM_EPOCHS,\n",
    "                'lstm_hidden_dim': LSTM_HIDDEN_DIM,\n",
    "                'time_embedding_dim': TIME_EMBEDDING_DIM,\n",
    "                'dropout_rate': DROPOUT_RATE,\n",
    "                'threshold': THRESHOLD\n",
    "            }\n",
    "        }\n",
    "        \n",
    "        with open(f\"{RESULTS_DIR}/summary.json\", 'w') as f:\n",
    "            json.dump(summary, f, indent=2)\n",
    "        \n",
    "        # Create CSV summary\n",
    "        with open(f\"{RESULTS_DIR}/results_summary.csv\", 'w', newline='') as f:\n",
    "            writer = csv.writer(f)\n",
    "            writer.writerow(['Model', 'Best_Accuracy', 'Parameters', 'Avg_Time_per_Epoch'])\n",
    "            \n",
    "            for model_name in best_accuracies.keys():\n",
    "                if model_name in results and len(results[model_name]['training_time']) > 0:\n",
    "                    avg_time = np.mean(results[model_name]['training_time'])\n",
    "                    params = count_parameters(models[model_name])  # Fixed parameter name\n",
    "                    writer.writerow([\n",
    "                        model_name,\n",
    "                        f\"{best_accuracies[model_name]:.4f}\",\n",
    "                        params,\n",
    "                        f\"{avg_time:.2f}\"\n",
    "                    ])\n",
    "        \n",
    "        # Create visualizations\n",
    "        if results:\n",
    "            plot_training_curves(results)\n",
    "        \n",
    "    except Exception as e:\n",
    "        print(f\"❌ ERROR SAVING RESULTS - STOPPING: {e}\")\n",
    "        import traceback\n",
    "        traceback.print_exc()\n",
    "        return  # Stop execution\n",
    "    \n",
    "    # Print final summary\n",
    "    print(\"\\n🎯 FINAL RESULTS SUMMARY:\")\n",
    "    print(\"=\" * 80)\n",
    "    for model_name, acc in best_accuracies.items():\n",
    "        params = count_parameters(models[model_name])\n",
    "        if model_name in results and len(results[model_name]['training_time']) > 0:\n",
    "            avg_time = np.mean(results[model_name]['training_time'])\n",
    "            print(f\"{model_name:20s}: {acc:.4f} acc | {params:7,} params | {avg_time:.1f}s/epoch\")\n",
    "    \n",
    "    # Find best model\n",
    "    if best_accuracies and any(acc > 0 for acc in best_accuracies.values()):\n",
    "        best_model = max(best_accuracies, key=best_accuracies.get)\n",
    "        print(f\"\\n🏆 Best Model: {best_model} (Accuracy: {best_accuracies[best_model]:.4f})\")\n",
    "    \n",
    "    print(f\"\\n💾 All results saved to: {RESULTS_DIR}\")\n",
    "    print(\"🎉 Comparison complete!\")\n",
    "\n",
    "# Run the comparison\n",
    "if __name__ == \"__main__\":\n",
    "    main()"
   ]
  },
  {
   "cell_type": "code",
   "execution_count": 54,
   "id": "752ef762",
   "metadata": {},
   "outputs": [
    {
     "name": "stdout",
     "output_type": "stream",
     "text": [
      "🧪 Testing the fixed implementation - STOP ON ERROR...\n",
      "✅ All imports successful\n",
      "✅ Device: cuda\n",
      "✅ Configuration loaded:\n",
      "   - Batch size: 32\n",
      "   - Learning rate: 0.001\n",
      "   - Time embedding dim: 64\n",
      "   - LSTM hidden dim: 128\n",
      "   - Epochs: 10\n",
      "\n",
      "📊 Testing Model Instantiation:\n",
      "Creating TrueBaselineLSTM...\n",
      "✅ TrueBaselineLSTM created successfully\n",
      "Creating LearnablePositionLSTM...\n",
      "✅ LearnablePositionLSTM created successfully\n",
      "Creating SinCosLSTM...\n",
      "✅ SinCosLSTM created successfully\n",
      "Creating LETE_LSTM_Fixed...\n",
      "✅ LETE_LSTM_Fixed created successfully\n",
      "Creating KAN_MAMMOTE_LSTM_Fixed...\n",
      "✅ KAN_MAMMOTE_LSTM_Fixed created successfully\n",
      "\n",
      "📊 Model Parameter Counts:\n",
      "   True_Baseline: 200,458 parameters\n",
      "   Learnable_Position: 283,018 parameters\n",
      "   SinCos_LSTM: 232,842 parameters\n",
      "   LETE_LSTM: 252,650 parameters\n",
      "   KAN_MAMMOTE_LSTM: 418,862 parameters\n",
      "✅ All models instantiated successfully\n",
      "\n",
      "🔍 Detailed inspection of KAN_MAMMOTE_LSTM model:\n",
      "\n",
      "📋 Model Structure:\n",
      "KAN_MAMMOTE_LSTM_Fixed(\n",
      "  (timestamp_proj): Linear(in_features=1, out_features=16, bias=True)\n",
      "  (kan_mammote): KANMAMMOTE(\n",
      "    (initial_feature_proj): Linear(in_features=16, out_features=128, bias=True)\n",
      "    (mamba_blocks): ModuleList(\n",
      "      (0): ContinuousMambaBlock(\n",
      "        (k_mote): K_MOTE(\n",
      "          (router): MoERouter(\n",
      "            (router_network): Sequential(\n",
      "              (0): Linear(in_features=1, out_features=64, bias=True)\n",
      "              (1): ReLU()\n",
      "              (2): Linear(in_features=64, out_features=32, bias=True)\n",
      "              (3): ReLU()\n",
      "              (4): Linear(in_features=32, out_features=4, bias=True)\n",
      "            )\n",
      "          )\n",
      "          (experts): ModuleDict(\n",
      "            (fourier): KANLayer(\n",
      "              (basis_function): FourierBasis()\n",
      "            )\n",
      "            (spline): MatrixKANLayer(\n",
      "              (base_fun): SiLU()\n",
      "            )\n",
      "            (gaussian): KANLayer(\n",
      "              (basis_function): GaussianKernelBasis()\n",
      "            )\n",
      "            (wavelet): KANLayer(\n",
      "              (basis_function): WaveletBasis()\n",
      "            )\n",
      "          )\n",
      "          (final_projection): Identity()\n",
      "          (layer_norm): LayerNorm((64,), eps=1e-05, elementwise_affine=True)\n",
      "        )\n",
      "        (faster_kan_transform): FasterKAN(\n",
      "          (kan_transform): KANLayer(\n",
      "            (basis_function): GaussianKernelBasis()\n",
      "          )\n",
      "        )\n",
      "        (input_proj): Linear(in_features=128, out_features=128, bias=True)\n",
      "        (mamba_ssm): DynamicMambaSSM(\n",
      "          (in_proj): Linear(in_features=128, out_features=776, bias=False)\n",
      "          (conv1d): Conv1d(512, 512, kernel_size=(4,), stride=(1,), padding=(3,), groups=512)\n",
      "          (act): SiLU()\n",
      "          (norm): RMSNorm()\n",
      "          (out_proj): Linear(in_features=256, out_features=128, bias=False)\n",
      "          (dt_modulation_proj): Linear(in_features=64, out_features=8, bias=True)\n",
      "        )\n",
      "      )\n",
      "    )\n",
      "    (prediction_head): Linear(in_features=128, out_features=64, bias=True)\n",
      "    (regularization_handler): KANMAMMOTE_RegularizationLosses()\n",
      "  )\n",
      "  (feature_proj): Linear(in_features=1, out_features=64, bias=True)\n",
      "  (combine): Linear(in_features=128, out_features=64, bias=True)\n",
      "  (lstm): LSTM(64, 128, num_layers=2, batch_first=True, dropout=0.2)\n",
      "  (classifier): Linear(in_features=128, out_features=10, bias=True)\n",
      ")\n",
      "\n",
      "📊 Key Component Info:\n",
      "KAN Config: <src.utils.config.KANMAMOTEConfig object at 0x1546b16a2990>\n",
      "KAN-MAMMOTE initialized: True\n",
      "Timestamp projector shape: in=1, out=16\n",
      "Feature projector shape: in=1, out=64\n",
      "Combiner shape: in=128, out=64\n",
      "LSTM input size: 64\n",
      "LSTM hidden size: 128\n",
      "Classifier shape: in=128, out=10\n",
      "\n",
      "📁 Testing Dataset Creation (small sample)...\n",
      "✅ Dataset created with 60000 samples\n",
      "\n",
      "📊 Testing single item retrieval:\n",
      "Sample 0 - events shape: (128,), features shape: (128,), label: 5\n",
      "Sample 0 - events range: [156, 682]\n",
      "Sample 0 - features range: [0.3059, 1.0000]\n",
      "\n",
      "📊 Testing DataLoader:\n",
      "✅ DataLoader working:\n",
      "   - Batch events shape: torch.Size([4, 141])\n",
      "   - Batch features shape: torch.Size([4, 141])\n",
      "   - Batch lengths: tensor([128, 141,  98,  74])\n",
      "   - Batch labels: tensor([5, 0, 4, 1])\n",
      "\n",
      "🧪 Testing KAN_MAMMOTE_LSTM with a single batch:\n",
      "✅ Forward pass successful!\n",
      "   - Output shape: torch.Size([4, 10])\n",
      "   - Output range: [-0.0869, 0.0820]\n",
      "\n",
      "🎉 Fix verification complete!\n",
      "🚀 You can now run main() in the next cell to start the full comparison!\n"
     ]
    }
   ],
   "source": [
    "# 🧪 Quick Test to Verify Everything Works - STOP ON ERROR\n",
    "print(\"🧪 Testing the fixed implementation - STOP ON ERROR...\")\n",
    "\n",
    "# Test if all variables are available\n",
    "print(\"✅ All imports successful\")\n",
    "print(f\"✅ Device: {device}\")\n",
    "print(f\"✅ Configuration loaded:\")\n",
    "print(f\"   - Batch size: {BATCH_SIZE}\")\n",
    "print(f\"   - Learning rate: {LEARNING_RATE}\")\n",
    "print(f\"   - Time embedding dim: {TIME_EMBEDDING_DIM}\")\n",
    "print(f\"   - LSTM hidden dim: {LSTM_HIDDEN_DIM}\")\n",
    "print(f\"   - Epochs: {NUM_EPOCHS}\")\n",
    "\n",
    "# Test model instantiation\n",
    "print(\"\\n📊 Testing Model Instantiation:\")\n",
    "# Only create one model at a time to isolate errors\n",
    "print(\"Creating TrueBaselineLSTM...\")\n",
    "true_baseline = TrueBaselineLSTM(hidden_dim=LSTM_HIDDEN_DIM, dropout=DROPOUT_RATE)\n",
    "print(\"✅ TrueBaselineLSTM created successfully\")\n",
    "\n",
    "print(\"Creating LearnablePositionLSTM...\")\n",
    "learnable_pos = LearnablePositionLSTM(hidden_dim=LSTM_HIDDEN_DIM, dropout=DROPOUT_RATE)\n",
    "print(\"✅ LearnablePositionLSTM created successfully\")\n",
    "\n",
    "print(\"Creating SinCosLSTM...\")\n",
    "sincos_lstm = SinCosLSTM(hidden_dim=LSTM_HIDDEN_DIM, dropout=DROPOUT_RATE)\n",
    "print(\"✅ SinCosLSTM created successfully\")\n",
    "\n",
    "print(\"Creating LETE_LSTM_Fixed...\")\n",
    "lete_lstm = LETE_LSTM_Fixed(hidden_dim=LSTM_HIDDEN_DIM, dropout=DROPOUT_RATE)\n",
    "print(\"✅ LETE_LSTM_Fixed created successfully\")\n",
    "\n",
    "print(\"Creating KAN_MAMMOTE_LSTM_Fixed...\")\n",
    "kan_model = KAN_MAMMOTE_LSTM_Fixed(hidden_dim=LSTM_HIDDEN_DIM, dropout=DROPOUT_RATE)\n",
    "print(\"✅ KAN_MAMMOTE_LSTM_Fixed created successfully\")\n",
    "\n",
    "# Store models for parameter counting\n",
    "test_models = {\n",
    "    'True_Baseline': true_baseline,\n",
    "    'Learnable_Position': learnable_pos,\n",
    "    'SinCos_LSTM': sincos_lstm,\n",
    "    'LETE_LSTM': lete_lstm,\n",
    "    'KAN_MAMMOTE_LSTM': kan_model\n",
    "}\n",
    "\n",
    "print(\"\\n📊 Model Parameter Counts:\")\n",
    "for name, model in test_models.items():\n",
    "    params = count_parameters(model)\n",
    "    print(f\"   {name}: {params:,} parameters\")\n",
    "\n",
    "print(\"✅ All models instantiated successfully\")\n",
    "\n",
    "# Test model internals - KAN-MAMMOTE model\n",
    "print(\"\\n🔍 Detailed inspection of KAN_MAMMOTE_LSTM model:\")\n",
    "\n",
    "# Print model structure\n",
    "print(\"\\n📋 Model Structure:\")\n",
    "print(kan_model)\n",
    "\n",
    "# Check key components\n",
    "print(\"\\n📊 Key Component Info:\")\n",
    "print(f\"KAN Config: {kan_model.kan_config}\")\n",
    "print(f\"KAN-MAMMOTE initialized: {kan_model.kan_mammote is not None}\")\n",
    "print(f\"Timestamp projector shape: in={kan_model.timestamp_proj.in_features}, out={kan_model.timestamp_proj.out_features}\")\n",
    "print(f\"Feature projector shape: in={kan_model.feature_proj.in_features}, out={kan_model.feature_proj.out_features}\")\n",
    "print(f\"Combiner shape: in={kan_model.combine.in_features}, out={kan_model.combine.out_features}\")\n",
    "print(f\"LSTM input size: {kan_model.lstm.input_size}\")\n",
    "print(f\"LSTM hidden size: {kan_model.lstm.hidden_size}\")\n",
    "print(f\"Classifier shape: in={kan_model.classifier.in_features}, out={kan_model.classifier.out_features}\")\n",
    "\n",
    "# Test dataset creation\n",
    "print(\"\\n📁 Testing Dataset Creation (small sample)...\")\n",
    "# Create a tiny test dataset to verify it works\n",
    "test_dataset = EventBasedMNIST(root='./data', train=True, threshold=THRESHOLD, download=True)\n",
    "print(f\"✅ Dataset created with {len(test_dataset)} samples\")\n",
    "\n",
    "# Test getting a single item\n",
    "print(\"\\n📊 Testing single item retrieval:\")\n",
    "events, features, label = test_dataset[0]\n",
    "print(f\"Sample 0 - events shape: {events.shape}, features shape: {features.shape}, label: {label}\")\n",
    "print(f\"Sample 0 - events range: [{events.min()}, {events.max()}]\")\n",
    "print(f\"Sample 0 - features range: [{features.min():.4f}, {features.max():.4f}]\")\n",
    "\n",
    "# Test data loader\n",
    "print(\"\\n📊 Testing DataLoader:\")\n",
    "test_loader = DataLoader(test_dataset, batch_size=4, shuffle=False, collate_fn=collate_fn)\n",
    "batch = next(iter(test_loader))\n",
    "events, features, lengths, labels = batch\n",
    "\n",
    "print(f\"✅ DataLoader working:\")\n",
    "print(f\"   - Batch events shape: {events.shape}\")\n",
    "print(f\"   - Batch features shape: {features.shape}\")\n",
    "print(f\"   - Batch lengths: {lengths}\")\n",
    "print(f\"   - Batch labels: {labels}\")\n",
    "\n",
    "# Test data loader with KAN model\n",
    "print(\"\\n🧪 Testing KAN_MAMMOTE_LSTM with a single batch:\")\n",
    "# Move batch to device\n",
    "events = events.to(device)\n",
    "features = features.to(device)\n",
    "lengths = lengths.to(device)\n",
    "labels = labels.to(device)\n",
    "\n",
    "# Create model and move to device\n",
    "test_kan_model = KAN_MAMMOTE_LSTM_Fixed(hidden_dim=LSTM_HIDDEN_DIM, dropout=DROPOUT_RATE).to(device)\n",
    "\n",
    "# Test forward pass\n",
    "with torch.no_grad():\n",
    "    outputs = test_kan_model(events, features, lengths)\n",
    "    \n",
    "print(f\"✅ Forward pass successful!\")\n",
    "print(f\"   - Output shape: {outputs.shape}\")\n",
    "print(f\"   - Output range: [{outputs.min().item():.4f}, {outputs.max().item():.4f}]\")\n",
    "\n",
    "# Clean up\n",
    "for model in test_models.values():\n",
    "    del model\n",
    "del test_kan_model\n",
    "if torch.cuda.is_available():\n",
    "    torch.cuda.empty_cache()\n",
    "\n",
    "print(\"\\n🎉 Fix verification complete!\")\n",
    "print(\"🚀 You can now run main() in the next cell to start the full comparison!\")"
   ]
  },
  {
   "cell_type": "code",
   "execution_count": 55,
   "id": "2da00d5d",
   "metadata": {},
   "outputs": [
    {
     "name": "stdout",
     "output_type": "stream",
     "text": [
      "🧪 Testing the fixed KAN_MAMMOTE_LSTM_Fixed implementation...\n",
      "\n",
      "📊 Test batch shapes:\n",
      "Events: torch.Size([4, 141])\n",
      "Features: torch.Size([4, 141])\n",
      "Lengths: tensor([128, 141,  98,  74], device='cuda:0')\n",
      "Labels: tensor([5, 0, 4, 1], device='cuda:0')\n",
      "\n",
      "🔄 Running forward pass with fixed model...\n",
      "\n",
      "✅ Forward pass SUCCESSFUL!\n",
      "Output shape: torch.Size([4, 10])\n",
      "Output range: [-0.1039, 0.1049]\n",
      "\n",
      "🔄 Testing backpropagation...\n",
      "✅ Backpropagation SUCCESSFUL! Loss: 2.3339\n",
      "\n",
      "🎉 KAN_MAMMOTE_LSTM_Fixed testing complete!\n",
      "\n",
      "📊 Test batch shapes:\n",
      "Events: torch.Size([4, 141])\n",
      "Features: torch.Size([4, 141])\n",
      "Lengths: tensor([128, 141,  98,  74], device='cuda:0')\n",
      "Labels: tensor([5, 0, 4, 1], device='cuda:0')\n",
      "\n",
      "🔄 Running forward pass with fixed model...\n",
      "\n",
      "✅ Forward pass SUCCESSFUL!\n",
      "Output shape: torch.Size([4, 10])\n",
      "Output range: [-0.1039, 0.1049]\n",
      "\n",
      "🔄 Testing backpropagation...\n",
      "✅ Backpropagation SUCCESSFUL! Loss: 2.3339\n",
      "\n",
      "🎉 KAN_MAMMOTE_LSTM_Fixed testing complete!\n"
     ]
    }
   ],
   "source": [
    "# 🧪 Testing the fixed KAN_MAMMOTE_LSTM_Fixed model specifically\n",
    "print(\"🧪 Testing the fixed KAN_MAMMOTE_LSTM_Fixed implementation...\")\n",
    "\n",
    "# Create a small test dataset\n",
    "test_dataset = EventBasedMNIST(root='./data', train=True, threshold=THRESHOLD, download=True)\n",
    "test_loader = DataLoader(test_dataset, batch_size=4, shuffle=False, collate_fn=collate_fn)\n",
    "batch = next(iter(test_loader))\n",
    "events, features, lengths, labels = batch\n",
    "\n",
    "# Move batch to device\n",
    "events = events.to(device)\n",
    "features = features.to(device)\n",
    "lengths = lengths.to(device)\n",
    "labels = labels.to(device)\n",
    "\n",
    "print(f\"\\n📊 Test batch shapes:\")\n",
    "print(f\"Events: {events.shape}\")\n",
    "print(f\"Features: {features.shape}\")\n",
    "print(f\"Lengths: {lengths}\")\n",
    "print(f\"Labels: {labels}\")\n",
    "\n",
    "# Create model and move to device\n",
    "test_kan_model = KAN_MAMMOTE_LSTM_Fixed(hidden_dim=LSTM_HIDDEN_DIM, dropout=DROPOUT_RATE).to(device)\n",
    "\n",
    "# Test forward pass with detailed error capture\n",
    "try:\n",
    "    print(\"\\n🔄 Running forward pass with fixed model...\")\n",
    "    with torch.no_grad():\n",
    "        outputs = test_kan_model(events, features, lengths)\n",
    "        \n",
    "    print(f\"\\n✅ Forward pass SUCCESSFUL!\")\n",
    "    print(f\"Output shape: {outputs.shape}\")\n",
    "    print(f\"Output range: [{outputs.min().item():.4f}, {outputs.max().item():.4f}]\")\n",
    "    \n",
    "    # Test backpropagation\n",
    "    print(\"\\n🔄 Testing backpropagation...\")\n",
    "    optimizer = torch.optim.Adam(test_kan_model.parameters(), lr=0.001)\n",
    "    loss_fn = torch.nn.CrossEntropyLoss()\n",
    "    \n",
    "    optimizer.zero_grad()\n",
    "    outputs = test_kan_model(events, features, lengths)\n",
    "    loss = loss_fn(outputs, labels)\n",
    "    loss.backward()\n",
    "    optimizer.step()\n",
    "    \n",
    "    print(f\"✅ Backpropagation SUCCESSFUL! Loss: {loss.item():.4f}\")\n",
    "    \n",
    "except Exception as e:\n",
    "    print(f\"\\n❌ FORWARD PASS FAILED: {e}\")\n",
    "    import traceback\n",
    "    traceback.print_exc()\n",
    "\n",
    "# Clean up\n",
    "del test_kan_model\n",
    "if torch.cuda.is_available():\n",
    "    torch.cuda.empty_cache()\n",
    "\n",
    "print(\"\\n🎉 KAN_MAMMOTE_LSTM_Fixed testing complete!\")"
   ]
  },
  {
   "cell_type": "code",
   "execution_count": null,
   "id": "c03c4f36",
   "metadata": {},
   "outputs": [],
   "source": []
  }
 ],
 "metadata": {
  "kernelspec": {
   "display_name": "Python (kan_mammote)",
   "language": "python",
   "name": "kan_mammote"
  }
 },
 "nbformat": 4,
 "nbformat_minor": 5
}
