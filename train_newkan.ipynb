{
 "cells": [
  {
   "cell_type": "code",
   "execution_count": 1,
   "id": "dc648ad2",
   "metadata": {},
   "outputs": [
    {
     "name": "stdout",
     "output_type": "stream",
     "text": [
      "/home/s2516027/kan-mammote\n"
     ]
    }
   ],
   "source": [
    "cd kan-mammote/\n"
   ]
  },
  {
   "cell_type": "code",
   "execution_count": 2,
   "id": "9e890c36",
   "metadata": {},
   "outputs": [
    {
     "name": "stdout",
     "output_type": "stream",
     "text": [
      "mkdir -p failed for path /home/jovyan/.cache/matplotlib: [Errno 13] Permission denied: '/home/jovyan/.cache/matplotlib'\n",
      "Matplotlib created a temporary cache directory at /JOBs/tmpdir/pbs.13140462.spcc-adm1/matplotlib-xfox57sp because there was an issue with the default path (/home/jovyan/.cache/matplotlib); it is highly recommended to set the MPLCONFIGDIR environment variable to a writable directory, in particular to speed up the import of Matplotlib and to better support multiprocessing.\n",
      "/home/s2516027/anaconda3/envs/kan_mammote/lib/python3.11/site-packages/requests/__init__.py:86: RequestsDependencyWarning: Unable to find acceptable character detection dependency (chardet or charset_normalizer).\n",
      "  warnings.warn(\n",
      "✓ Faster-KAN successfully imported from cloned repository\n",
      "Using device: cuda\n",
      "D_time: 64, Num Layers: 2\n",
      "Model initialized with 336137 trainable parameters.\n",
      "\n",
      "Starting conceptual training loop...\n",
      "\n",
      "Epoch 1/50\n",
      "  Batch 10/50 - Combined Loss: 2.019994, Main Loss: 2.016540, LB Loss: 0.003454\n",
      "  Batch 20/50 - Combined Loss: 0.680306, Main Loss: 0.679997, LB Loss: 0.000310\n",
      "  Batch 30/50 - Combined Loss: 0.620526, Main Loss: 0.620300, LB Loss: 0.000226\n",
      "  Batch 40/50 - Combined Loss: 0.541388, Main Loss: 0.541287, LB Loss: 0.000102\n",
      "  Batch 50/50 - Combined Loss: 0.521245, Main Loss: 0.521194, LB Loss: 0.000051\n",
      "Epoch 1/50 finished in 149.52s\n",
      "  Avg Total Loss: 1.318013\n",
      "  Avg Main Loss: 1.316085\n",
      "  Avg Load Balance Loss: 0.001928\n",
      "  Avg Sobolev L2 Loss: 0.000000 (Stub)\n",
      "  Avg Total Variation Loss: 0.000000 (Stub)\n",
      "\n",
      "Epoch 2/50\n",
      "  Batch 10/50 - Combined Loss: 0.515465, Main Loss: 0.515446, LB Loss: 0.000020\n",
      "  Batch 20/50 - Combined Loss: 0.507453, Main Loss: 0.507450, LB Loss: 0.000003\n",
      "  Batch 30/50 - Combined Loss: 0.469632, Main Loss: 0.469614, LB Loss: 0.000018\n",
      "  Batch 40/50 - Combined Loss: 0.350001, Main Loss: 0.349952, LB Loss: 0.000049\n",
      "  Batch 50/50 - Combined Loss: 0.223728, Main Loss: 0.223712, LB Loss: 0.000016\n",
      "Epoch 2/50 finished in 137.42s\n",
      "  Avg Total Loss: 0.435746\n",
      "  Avg Main Loss: 0.435718\n",
      "  Avg Load Balance Loss: 0.000028\n",
      "  Avg Sobolev L2 Loss: 0.000000 (Stub)\n",
      "  Avg Total Variation Loss: 0.000000 (Stub)\n",
      "\n",
      "Epoch 3/50\n",
      "  Batch 10/50 - Combined Loss: 0.081502, Main Loss: 0.081490, LB Loss: 0.000012\n",
      "  Batch 20/50 - Combined Loss: 0.034484, Main Loss: 0.034476, LB Loss: 0.000007\n",
      "  Batch 30/50 - Combined Loss: 0.026248, Main Loss: 0.026246, LB Loss: 0.000002\n",
      "  Batch 40/50 - Combined Loss: 0.018129, Main Loss: 0.018128, LB Loss: 0.000001\n",
      "  Batch 50/50 - Combined Loss: 0.016713, Main Loss: 0.016713, LB Loss: 0.000000\n",
      "Epoch 3/50 finished in 137.44s\n",
      "  Avg Total Loss: 0.041936\n",
      "  Avg Main Loss: 0.041928\n",
      "  Avg Load Balance Loss: 0.000008\n",
      "  Avg Sobolev L2 Loss: 0.000000 (Stub)\n",
      "  Avg Total Variation Loss: 0.000000 (Stub)\n",
      "\n",
      "Epoch 4/50\n",
      "  Batch 10/50 - Combined Loss: 0.018921, Main Loss: 0.018920, LB Loss: 0.000000\n",
      "  Batch 20/50 - Combined Loss: 0.014896, Main Loss: 0.014892, LB Loss: 0.000004\n",
      "  Batch 30/50 - Combined Loss: 0.012845, Main Loss: 0.012844, LB Loss: 0.000001\n",
      "  Batch 40/50 - Combined Loss: 0.023722, Main Loss: 0.023721, LB Loss: 0.000001\n",
      "  Batch 50/50 - Combined Loss: 0.014894, Main Loss: 0.014894, LB Loss: 0.000000\n",
      "Epoch 4/50 finished in 137.84s\n",
      "  Avg Total Loss: 0.018921\n",
      "  Avg Main Loss: 0.018920\n",
      "  Avg Load Balance Loss: 0.000001\n",
      "  Avg Sobolev L2 Loss: 0.000000 (Stub)\n",
      "  Avg Total Variation Loss: 0.000000 (Stub)\n",
      "\n",
      "Epoch 5/50\n",
      "  Batch 10/50 - Combined Loss: 0.063966, Main Loss: 0.063911, LB Loss: 0.000055\n",
      "  Batch 20/50 - Combined Loss: 0.035545, Main Loss: 0.035542, LB Loss: 0.000004\n",
      "  Batch 30/50 - Combined Loss: 0.016409, Main Loss: 0.016408, LB Loss: 0.000001\n",
      "  Batch 40/50 - Combined Loss: 0.015126, Main Loss: 0.015125, LB Loss: 0.000000\n",
      "  Batch 50/50 - Combined Loss: 0.012522, Main Loss: 0.012522, LB Loss: 0.000000\n",
      "Epoch 5/50 finished in 137.90s\n",
      "  Avg Total Loss: 0.042832\n",
      "  Avg Main Loss: 0.042819\n",
      "  Avg Load Balance Loss: 0.000013\n",
      "  Avg Sobolev L2 Loss: 0.000000 (Stub)\n",
      "  Avg Total Variation Loss: 0.000000 (Stub)\n",
      "\n",
      "Conceptual training loop finished.\n"
     ]
    }
   ],
   "source": [
    "!python train.py"
   ]
  },
  {
   "cell_type": "code",
   "execution_count": 3,
   "id": "44c8916d",
   "metadata": {},
   "outputs": [
    {
     "name": "stderr",
     "output_type": "stream",
     "text": [
      "/home/s2516027/anaconda3/envs/kan_mammote/lib/python3.11/site-packages/requests/__init__.py:86: RequestsDependencyWarning: Unable to find acceptable character detection dependency (chardet or charset_normalizer).\n",
      "  warnings.warn(\n"
     ]
    },
    {
     "name": "stdout",
     "output_type": "stream",
     "text": [
      "✅ mamba-ssm is installed.\n"
     ]
    }
   ],
   "source": [
    "try:\n",
    "    import mamba_ssm\n",
    "    print(\"✅ mamba-ssm is installed.\")\n",
    "except ImportError:\n",
    "    print(\"❌ mamba-ssm is NOT installed.\")"
   ]
  },
  {
   "cell_type": "code",
   "execution_count": 4,
   "id": "56b8290d",
   "metadata": {},
   "outputs": [
    {
     "name": "stdout",
     "output_type": "stream",
     "text": [
      "PyTorch version: 2.5.1+cu121\n",
      "CUDA available: True\n"
     ]
    }
   ],
   "source": [
    "import torch\n",
    "print(f\"PyTorch version: {torch.__version__}\")\n",
    "print(f\"CUDA available: {torch.cuda.is_available()}\")"
   ]
  }
 ],
 "metadata": {
  "kernelspec": {
   "display_name": "kanmote_wsl",
   "language": "python",
   "name": "python3"
  },
  "language_info": {
   "codemirror_mode": {
    "name": "ipython",
    "version": 3
   },
   "file_extension": ".py",
   "mimetype": "text/x-python",
   "name": "python",
   "nbconvert_exporter": "python",
   "pygments_lexer": "ipython3",
   "version": "3.11.13"
  }
 },
 "nbformat": 4,
 "nbformat_minor": 5
}
