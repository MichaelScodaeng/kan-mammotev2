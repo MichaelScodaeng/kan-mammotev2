{
 "cells": [
  {
   "cell_type": "code",
   "execution_count": 31,
   "id": "0a8a0b61",
   "metadata": {},
   "outputs": [
    {
     "name": "stdout",
     "output_type": "stream",
     "text": [
      "/home/s2516027/kan-mammote\n"
     ]
    }
   ],
   "source": [
    "cd kan-mammote"
   ]
  },
  {
   "cell_type": "code",
   "execution_count": 34,
   "id": "8b29be51",
   "metadata": {},
   "outputs": [
    {
     "name": "stdout",
     "output_type": "stream",
     "text": [
      "mkdir -p failed for path /home/jovyan/.cache/matplotlib: [Errno 13] Permission denied: '/home/jovyan/.cache/matplotlib'\n",
      "Matplotlib created a temporary cache directory at /JOBs/tmpdir/pbs.13142964.spcc-adm1/matplotlib-6m4g13h9 because there was an issue with the default path (/home/jovyan/.cache/matplotlib); it is highly recommended to set the MPLCONFIGDIR environment variable to a writable directory, in particular to speed up the import of Matplotlib and to better support multiprocessing.\n",
      "/home/s2516027/anaconda3/envs/kan_mammote/lib/python3.11/site-packages/requests/__init__.py:86: RequestsDependencyWarning: Unable to find acceptable character detection dependency (chardet or charset_normalizer).\n",
      "  warnings.warn(\n",
      "✓ Faster-KAN successfully imported from cloned repository\n",
      "Using device: cuda\n",
      "D_time: 64, Num Layers: 2\n",
      "Model initialized with 336137 trainable parameters.\n",
      "\n",
      "Starting conceptual training loop...\n",
      "\n",
      "Epoch 1/50\n",
      "^C\n"
     ]
    }
   ],
   "source": [
    "!python train.py"
   ]
  },
  {
   "cell_type": "code",
   "execution_count": null,
   "id": "b5dc5d94",
   "metadata": {},
   "outputs": [],
   "source": []
  }
 ],
 "metadata": {
  "kernelspec": {
   "display_name": "Python (kan_mammote)",
   "language": "python",
   "name": "kan_mammote"
  },
  "language_info": {
   "codemirror_mode": {
    "name": "ipython",
    "version": 3
   },
   "file_extension": ".py",
   "mimetype": "text/x-python",
   "name": "python",
   "nbconvert_exporter": "python",
   "pygments_lexer": "ipython3",
   "version": "3.11.13"
  }
 },
 "nbformat": 4,
 "nbformat_minor": 5
}
