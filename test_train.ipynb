{
 "cells": [
  {
   "cell_type": "code",
   "execution_count": 3,
   "id": "ceca80d0",
   "metadata": {},
   "outputs": [
    {
     "name": "stdout",
     "output_type": "stream",
     "text": [
      "/home/s2516027/kan-mammote\n"
     ]
    }
   ],
   "source": [
    "cd kan-mammote"
   ]
  },
  {
   "cell_type": "code",
   "execution_count": 6,
   "id": "79fe5bf0",
   "metadata": {},
   "outputs": [
    {
     "name": "stdout",
     "output_type": "stream",
     "text": [
      "mkdir -p failed for path /home/jovyan/.cache/matplotlib: [Errno 13] Permission denied: '/home/jovyan/.cache/matplotlib'\n",
      "Matplotlib created a temporary cache directory at /JOBs/tmpdir/pbs.13157462.spcc-adm1/matplotlib-55ty2icy because there was an issue with the default path (/home/jovyan/.cache/matplotlib); it is highly recommended to set the MPLCONFIGDIR environment variable to a writable directory, in particular to speed up the import of Matplotlib and to better support multiprocessing.\n",
      "/home/s2516027/anaconda3/envs/kan_mammote/lib/python3.11/site-packages/requests/__init__.py:86: RequestsDependencyWarning: Unable to find acceptable character detection dependency (chardet or charset_normalizer).\n",
      "  warnings.warn(\n",
      "✓ Faster-KAN successfully imported from cloned repository\n",
      "Using device: cuda\n",
      "D_time: 64, Num Layers: 2\n",
      "Model initialized with 336137 trainable parameters.\n",
      "\n",
      "Starting conceptual training loop...\n",
      "\n",
      "Epoch 1/5\n",
      "  Batch 10/50 - Combined Loss: 2.165016, Main Loss: 2.163911, LB Loss: 0.001105\n",
      "  Batch 20/50 - Combined Loss: 0.740820, Main Loss: 0.740531, LB Loss: 0.000288\n",
      "  Batch 30/50 - Combined Loss: 0.598634, Main Loss: 0.598565, LB Loss: 0.000069\n",
      "  Batch 40/50 - Combined Loss: 0.548067, Main Loss: 0.548044, LB Loss: 0.000023\n",
      "  Batch 50/50 - Combined Loss: 0.564705, Main Loss: 0.564691, LB Loss: 0.000014\n",
      "Epoch 1/5 finished in 150.05s\n",
      "  Avg Total Loss: 1.377594\n",
      "  Avg Main Loss: 1.377045\n",
      "  Avg Load Balance Loss: 0.000549\n",
      "  Avg Sobolev L2 Loss: 0.000000 (Stub)\n",
      "  Avg Total Variation Loss: 0.000000 (Stub)\n",
      "\n",
      "Epoch 2/5\n",
      "^C\n"
     ]
    }
   ],
   "source": [
    "!python train.py"
   ]
  },
  {
   "cell_type": "code",
   "execution_count": 4,
   "id": "b369781c",
   "metadata": {},
   "outputs": [],
   "source": [
    "import torch \n",
    "#check if GPU is available\n",
    "if torch.cuda.is_available():\n",
    "    device = torch.device(\"cuda\")"
   ]
  },
  {
   "cell_type": "code",
   "execution_count": null,
   "id": "44db8ef9",
   "metadata": {},
   "outputs": [],
   "source": []
  }
 ],
 "metadata": {
  "kernelspec": {
   "display_name": "kanmote_wsl",
   "language": "python",
   "name": "python3"
  },
  "language_info": {
   "name": "python",
   "version": "3.11.13"
  }
 },
 "nbformat": 4,
 "nbformat_minor": 5
}
